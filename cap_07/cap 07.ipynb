{
 "cells": [
  {
   "cell_type": "markdown",
   "source": [
    "# Funções especiais  "
   ],
   "metadata": {
    "collapsed": false
   }
  },
  {
   "cell_type": "code",
   "execution_count": 31,
   "outputs": [],
   "source": [
    "# O mundo do cientista de dados é repleto de atividades de transformações de dados\n",
    "# Muitas dessas atividades estão relacionadas à limpeza e organização.\n",
    "# Com frequência precisamos executar ações repetitivas, como remover ou adicionar dados,\n",
    "# que necessitam da aplicação de uma função específica.\n",
    "# Pensando nisso, foram desenvolvidas algumas funções visando agilizar # loops #  \n",
    "# de processamento no Python"
   ],
   "metadata": {
    "collapsed": false,
    "pycharm": {
     "name": "#%%\n",
     "is_executing": false
    }
   }
  },
  {
   "cell_type": "code",
   "execution_count": 32,
   "outputs": [],
   "source": [
    "# Essas funções estão otimizadas e permitem que analistas executem suas atividades com grande desempenho\n",
    "# de velocidade e praticidade.\n",
    "# Iremos estudar vários exemplos cada uma das seguintes funções, a saber:\n",
    "# 'Map', 'Reducer', 'Filter', 'Zip' e 'Enumerate'.\n",
    "\n",
    "# Mais especificamente iremos estudar as funões internas *built-in:\n",
    "\n",
    "# map(função, sequência)\n",
    "# reduce(função, sequência)\n",
    "# filter(função, sequência)\n",
    "# lambda"
   ],
   "metadata": {
    "collapsed": false,
    "pycharm": {
     "name": "#%%\n",
     "is_executing": false
    }
   }
  },
  {
   "cell_type": "markdown",
   "source": [
    "# Função Map"
   ],
   "metadata": {
    "collapsed": false
   }
  },
  {
   "cell_type": "code",
   "execution_count": 33,
   "outputs": [],
   "source": [
    "# A programação orientada a expressão funcional é orientada a expressão que precisam \n",
    "# ser interpretadas diretamente com base em uma lógica.\n",
    "# A função 'map()' é exempol de função Map:\n",
    "# Veja abaixo a estrutura principal da função Map:\n",
    "# map(Fun,Seq)"
   ],
   "metadata": {
    "collapsed": false,
    "pycharm": {
     "name": "#%%\n",
     "is_executing": false
    }
   }
  },
  {
   "cell_type": "code",
   "execution_count": 34,
   "outputs": [],
   "source": [
    "# Sempre que possivel vale a pena evitar o uso de 'loop for'.\n",
    "# Para isso, temos a função map() que aplica uma ação(função) a todos os elementos de uma lista\n",
    "# sem a necessidade de utilizar o 'loop for'.\n",
    "# Assim, a função 'map()' retorna uma nova lista com elementos alterados pela função escolhida (Fun)."
   ],
   "metadata": {
    "collapsed": false,
    "pycharm": {
     "name": "#%%\n",
     "is_executing": false
    }
   }
  },
  {
   "cell_type": "code",
   "execution_count": 35,
   "outputs": [],
   "source": [
    "# Vamos a um exemplo prático.\n",
    "# Primeiro precisamos criar funções para serem aplicadas as listas a partir da função 'Map'.\n",
    "# Iremos criar uma função preço de uma corrida de áxi, naqual temos um valor fixo, \n",
    "# que representa o valor cobrado logo quando entramos no é a seguintetáxi (R$ 2,50), mais um valor variável referente\n",
    "# à quilometragem percorrida multiplicada por uma taxa constante igual a R$ 1,50.\n",
    "\n",
    "# A função é a seguinte: P(x) = 2,5 + 1.5*x , onde x representa a quilometragem "
   ],
   "metadata": {
    "collapsed": false,
    "pycharm": {
     "name": "#%%\n",
     "is_executing": false
    }
   }
  },
  {
   "cell_type": "code",
   "execution_count": 36,
   "outputs": [],
   "source": [
    "# Função para cálculo do preço da corrida\n",
    "def preCorridaTaxi(x):\n",
    "    return(2.5 + 1.5 * x)"
   ],
   "metadata": {
    "collapsed": false,
    "pycharm": {
     "name": "#%%\n",
     "is_executing": false
    }
   }
  },
  {
   "cell_type": "code",
   "execution_count": 37,
   "outputs": [],
   "source": [
    "# Listas de distância percorridas\n",
    "distancias = [120, 100, 50, 70, 88]"
   ],
   "metadata": {
    "collapsed": false,
    "pycharm": {
     "name": "#%%\n",
     "is_executing": false
    }
   }
  },
  {
   "cell_type": "code",
   "execution_count": 38,
   "outputs": [],
   "source": [
    "# Preço das corridas\n",
    "preco = list(map(preCorridaTaxi, distancias))"
   ],
   "metadata": {
    "collapsed": false,
    "pycharm": {
     "name": "#%%\n",
     "is_executing": false
    }
   }
  },
  {
   "cell_type": "code",
   "execution_count": 39,
   "outputs": [
    {
     "data": {
      "text/plain": "[182.5, 152.5, 77.5, 107.5, 134.5]"
     },
     "metadata": {},
     "output_type": "execute_result",
     "execution_count": 39
    }
   ],
   "source": [
    "preco"
   ],
   "metadata": {
    "collapsed": false,
    "pycharm": {
     "name": "#%%\n",
     "is_executing": false
    }
   }
  },
  {
   "cell_type": "code",
   "execution_count": 40,
   "outputs": [],
   "source": [
    "# Desse modo, a função built-in map aplicou a função 'preCorridaTaxi' interativamente\n",
    "# a cada um dos elementos da lista 'distancias', retornando um interador(<map>).\n",
    "# Contudo, como queremos uma lista como retorno, precisamos utilizar a função 'list'.\n",
    "# Podemos tornar ainda mais eficiente nosso código a partir das 'expressões lambda'.\n",
    "# Veja o exemplo abaixo."
   ],
   "metadata": {
    "collapsed": false,
    "pycharm": {
     "name": "#%%\n",
     "is_executing": false
    }
   }
  },
  {
   "cell_type": "code",
   "execution_count": 41,
   "outputs": [],
   "source": [
    "# Uso de expressões \n",
    "preco = list(map(lambda x: 2.5 + 1.5 * x, distancias ))"
   ],
   "metadata": {
    "collapsed": false,
    "pycharm": {
     "name": "#%%\n",
     "is_executing": false
    }
   }
  },
  {
   "cell_type": "code",
   "execution_count": 42,
   "outputs": [
    {
     "data": {
      "text/plain": "[182.5, 152.5, 77.5, 107.5, 134.5]"
     },
     "metadata": {},
     "output_type": "execute_result",
     "execution_count": 42
    }
   ],
   "source": [
    "preco"
   ],
   "metadata": {
    "collapsed": false,
    "pycharm": {
     "name": "#%%\n",
     "is_executing": false
    }
   }
  },
  {
   "cell_type": "code",
   "execution_count": 43,
   "outputs": [],
   "source": [
    "# Vamos estudar um exemplo que apresenta o enorme poder que temos nas mãos a partir da função map()."
   ],
   "metadata": {
    "collapsed": false,
    "pycharm": {
     "name": "#%%\n",
     "is_executing": false
    }
   }
  },
  {
   "cell_type": "code",
   "execution_count": 44,
   "outputs": [],
   "source": [
    "# Listas\n",
    "L1 = [10,20,30,40,50]\n",
    "L2 = [1,2,3,4,5]\n",
    "L3 = [11,22,33,44,55]"
   ],
   "metadata": {
    "collapsed": false,
    "pycharm": {
     "name": "#%%\n",
     "is_executing": false
    }
   }
  },
  {
   "cell_type": "code",
   "execution_count": 45,
   "outputs": [],
   "source": [
    "soma_listas = list(map(lambda a,b,c: a+b+c, L1,L2,L3))"
   ],
   "metadata": {
    "collapsed": false,
    "pycharm": {
     "name": "#%%\n",
     "is_executing": false
    }
   }
  },
  {
   "cell_type": "code",
   "execution_count": 46,
   "outputs": [
    {
     "data": {
      "text/plain": "[22, 44, 66, 88, 110]"
     },
     "metadata": {},
     "output_type": "execute_result",
     "execution_count": 46
    }
   ],
   "source": [
    "soma_listas"
   ],
   "metadata": {
    "collapsed": false,
    "pycharm": {
     "name": "#%%\n",
     "is_executing": false
    }
   }
  },
  {
   "cell_type": "code",
   "execution_count": 47,
   "outputs": [],
   "source": [
    "# No caso acima foomos capazes de aplicar ao mesmo tempo uma  função de três variáveis, \n",
    "# em que cada variável pode ser representa como um elemento de três listas."
   ],
   "metadata": {
    "collapsed": false,
    "pycharm": {
     "name": "#%%\n",
     "is_executing": false
    }
   }
  },
  {
   "cell_type": "code",
   "execution_count": 48,
   "outputs": [],
   "source": [
    "# Assim como a função map() a função reduce() recebe dois argumentos apenas.\n",
    "# reduce(fun,seq).\n",
    "# O primeiro elemento da sequência de elementos é uma sequência de elementos\n",
    "# (uma lista por exemplo).\n",
    "# A função reduce, diferente da função map, aplica a cada elemento da sequência\n",
    "# a função passada como parâmetros até que reste apenas um elemento."
   ],
   "metadata": {
    "collapsed": false,
    "pycharm": {
     "name": "#%%\n",
     "is_executing": false
    }
   }
  },
  {
   "cell_type": "code",
   "execution_count": 49,
   "outputs": [],
   "source": [
    "# A função \"reduce()\" apresenta uma particularidade. Embora seja uma função \n",
    "# built-in(que não precisa ser importada), a função reduce() precisa ser importada de \n",
    "#  'functools'.\n",
    "# Vamos a um exemplo prático para esclarecer melhor tudo isso."
   ],
   "metadata": {
    "collapsed": false,
    "pycharm": {
     "name": "#%%\n",
     "is_executing": false
    }
   }
  },
  {
   "cell_type": "code",
   "execution_count": 50,
   "outputs": [],
   "source": [
    "from functools import reduce"
   ],
   "metadata": {
    "collapsed": false,
    "pycharm": {
     "name": "#%%\n",
     "is_executing": false
    }
   }
  },
  {
   "cell_type": "code",
   "execution_count": 51,
   "outputs": [],
   "source": [
    "lista = [1, 2, -3, 4, 5, -9]\n",
    "def soma(a,b):\n",
    "    return a + b"
   ],
   "metadata": {
    "collapsed": false,
    "pycharm": {
     "name": "#%%\n",
     "is_executing": false
    }
   }
  },
  {
   "cell_type": "code",
   "execution_count": 52,
   "outputs": [
    {
     "data": {
      "text/plain": "0"
     },
     "metadata": {},
     "output_type": "execute_result",
     "execution_count": 52
    }
   ],
   "source": [
    "reduce(soma, lista)"
   ],
   "metadata": {
    "collapsed": false,
    "pycharm": {
     "name": "#%%\n",
     "is_executing": false
    }
   }
  },
  {
   "cell_type": "code",
   "execution_count": 53,
   "outputs": [],
   "source": [
    "# Vamos entender agora como chegamos ao resultado ZERO mostrado acima.\n",
    "# as operações com a função reduce() são feitas em pares.\n",
    "# Assim, reduce() aplica a função soma aos pares dos elementos da lista.\n",
    "# Em outras palavras temos:\n",
    "\n",
    "# (((((1 + 2) + (-3)) + 4) + 5) + (-9)) = 0\n",
    " "
   ],
   "metadata": {
    "collapsed": false,
    "pycharm": {
     "name": "#%%\n",
     "is_executing": false
    }
   }
  },
  {
   "cell_type": "markdown",
   "source": [
    "# Função Filter"
   ],
   "metadata": {
    "collapsed": false
   }
  },
  {
   "cell_type": "code",
   "execution_count": 54,
   "outputs": [],
   "source": [
    "# Assim como as função funções map() e reduce(), a função filter() \n",
    "# também recebe dois argumentos, uma função predefinida e uma sequência de dados.\n",
    "# A função filter() permite que possamos fazer filtros em elmentos de uma sequência\n",
    "# de valores de maneira a otimizarda. Uma vez encontrado o valor baseadono filtro\n",
    "# da função(Fun), iremos ter um retorno true da função filter()."
   ],
   "metadata": {
    "collapsed": false,
    "pycharm": {
     "name": "#%%\n",
     "is_executing": false
    }
   }
  },
  {
   "cell_type": "code",
   "execution_count": 55,
   "outputs": [],
   "source": [
    "# Função para verificar se nº é par\n",
    "def isPar(num):\n",
    "    if num % 2 == 0:\n",
    "        return True\n",
    "    else:\n",
    "        return False"
   ],
   "metadata": {
    "collapsed": false,
    "pycharm": {
     "name": "#%%\n",
     "is_executing": false
    }
   }
  },
  {
   "cell_type": "code",
   "execution_count": 56,
   "outputs": [],
   "source": [
    "numeros = [2, 54, 87, 4, 90, 43, 26, 50]"
   ],
   "metadata": {
    "collapsed": false,
    "pycharm": {
     "name": "#%%\n",
     "is_executing": false
    }
   }
  },
  {
   "cell_type": "code",
   "execution_count": 57,
   "outputs": [
    {
     "data": {
      "text/plain": "[2, 54, 4, 90, 26, 50]"
     },
     "metadata": {},
     "output_type": "execute_result",
     "execution_count": 57
    }
   ],
   "source": [
    "# Filtra os nº pares da lista 'numeros'\n",
    "list(filter(isPar, numeros))"
   ],
   "metadata": {
    "collapsed": false,
    "pycharm": {
     "name": "#%%\n",
     "is_executing": false
    }
   }
  },
  {
   "cell_type": "code",
   "execution_count": 58,
   "outputs": [],
   "source": [
    "# Poderíamos ter utilizado a expressão lambda para obter o mesmo resultado.\n",
    "\n"
   ],
   "metadata": {
    "collapsed": false,
    "pycharm": {
     "name": "#%%\n",
     "is_executing": false
    }
   }
  },
  {
   "cell_type": "code",
   "execution_count": 59,
   "outputs": [
    {
     "data": {
      "text/plain": "[2, 54, 4, 90, 26, 50]"
     },
     "metadata": {},
     "output_type": "execute_result",
     "execution_count": 59
    }
   ],
   "source": [
    "list(filter(lambda x: x%2==0, numeros))"
   ],
   "metadata": {
    "collapsed": false,
    "pycharm": {
     "name": "#%%\n",
     "is_executing": false
    }
   }
  },
  {
   "cell_type": "markdown",
   "source": [
    "# Função Zip\n",
    "\n",
    "\n"
   ],
   "metadata": {
    "collapsed": false,
    "pycharm": {
     "name": "#%% md\n",
     "is_executing": false
    }
   }
  },
  {
   "cell_type": "code",
   "execution_count": 60,
   "outputs": [],
   "source": [
    "# A função zip() foi construída visando agregar valores de duas seqências retornando uma tupla.\n",
    "# Esse tipo de operação é muitoo útil quando estamos querendo fazer loops em mais de uma lista ao mesmo tempo.\n",
    "# Veja abaixo a forma geral de uso:\n",
    "\n",
    "# zip(seq,seq)\n",
    "\n",
    "# seq - sequência. Portanto, essa função nos retorna o agrupamento de duas sequências em uma tupla.\n",
    "# Vale ressaltar que podemos utilizar zip() em duas sequências com números diferentes de elementos, \n",
    "# no entanto o número de tuplas será igual ao número da sequência de valores."
   ],
   "metadata": {
    "collapsed": false,
    "pycharm": {
     "name": "#%%\n",
     "is_executing": false
    }
   }
  },
  {
   "cell_type": "code",
   "execution_count": 61,
   "outputs": [],
   "source": [
    "# veja o exemplo:\n",
    "# zip([1,2,3,4,5],[6,7,8]) = (1,2)(2,7)(3,8)\n"
   ],
   "metadata": {
    "collapsed": false,
    "pycharm": {
     "name": "#%%\n",
     "is_executing": false
    }
   }
  },
  {
   "cell_type": "code",
   "execution_count": 62,
   "outputs": [],
   "source": [
    "# Função zip"
   ],
   "metadata": {
    "collapsed": false,
    "pycharm": {
     "name": "#%%\n",
     "is_executing": false
    }
   }
  },
  {
   "cell_type": "code",
   "execution_count": 65,
   "outputs": [],
   "source": [
    "# Lista\n",
    "L1 = [1,2,3,4,5,6]\n",
    "L2 = [7,8,9,1,2,3]"
   ],
   "metadata": {
    "collapsed": false,
    "pycharm": {
     "name": "#%%\n",
     "is_executing": false
    }
   }
  },
  {
   "cell_type": "code",
   "execution_count": 66,
   "outputs": [
    {
     "data": {
      "text/plain": "<zip at 0x7f6e0dbb9870>"
     },
     "metadata": {},
     "output_type": "execute_result",
     "execution_count": 66
    }
   ],
   "source": [
    "# Unir as listas\n",
    "zip(L1,L2)"
   ],
   "metadata": {
    "collapsed": false,
    "pycharm": {
     "name": "#%%\n",
     "is_executing": false
    }
   }
  },
  {
   "cell_type": "code",
   "execution_count": 67,
   "outputs": [
    {
     "data": {
      "text/plain": "[(1, 7), (2, 8), (3, 9), (4, 1), (5, 2), (6, 3)]"
     },
     "metadata": {},
     "output_type": "execute_result",
     "execution_count": 67
    }
   ],
   "source": [
    "list(zip(L1,L2))"
   ],
   "metadata": {
    "collapsed": false,
    "pycharm": {
     "name": "#%%\n",
     "is_executing": false
    }
   }
  },
  {
   "cell_type": "code",
   "execution_count": null,
   "outputs": [],
   "source": [
    "# o retorno <zip at 0x7f6e0dbb9870> é um interator, por isso precisamos usar a função list() para obter uma lista.\n",
    "# vamos fazer um exemplo em que os tamanhos das listas são diferentes."
   ],
   "metadata": {
    "collapsed": false,
    "pycharm": {
     "name": "#%%\n"
    }
   }
  },
  {
   "cell_type": "code",
   "execution_count": 1,
   "outputs": [],
   "source": [
    "# Listas tamanhos diferentes\n",
    "L3 = [1,2,3,4,5]\n",
    "L4 = [22,11]\n",
    "\n"
   ],
   "metadata": {
    "collapsed": false,
    "pycharm": {
     "name": "#%%\n",
     "is_executing": false
    }
   }
  },
  {
   "cell_type": "code",
   "execution_count": 2,
   "outputs": [
    {
     "data": {
      "text/plain": "[(1, 22), (2, 11)]"
     },
     "metadata": {},
     "output_type": "execute_result",
     "execution_count": 2
    }
   ],
   "source": [
    "list(zip(L3,L4))\n",
    "\n"
   ],
   "metadata": {
    "collapsed": false,
    "pycharm": {
     "name": "#%%\n",
     "is_executing": false
    }
   }
  },
  {
   "cell_type": "code",
   "execution_count": 3,
   "outputs": [],
   "source": [
    "# Podemos utilizar dicionários dentro da função zip(). Vale lembrar que os argumentos desta função devem ser sequências.\n",
    "# Como já estudamos, as sequências podem ser de vários tipos: listas, dicionários, tuplas.\n",
    "\n"
   ],
   "metadata": {
    "collapsed": false,
    "pycharm": {
     "name": "#%%\n",
     "is_executing": false
    }
   }
  },
  {
   "cell_type": "code",
   "execution_count": 4,
   "outputs": [],
   "source": [
    "# Dicionários\n",
    "d1 = {'a':1, 'b':2, 'c':3, 'd':4}\n",
    "d2 = {'aa':11, 'bb':22, 'cc':33, 'dd':44}\n",
    "\n"
   ],
   "metadata": {
    "collapsed": false,
    "pycharm": {
     "name": "#%%\n",
     "is_executing": false
    }
   }
  },
  {
   "cell_type": "code",
   "execution_count": 5,
   "outputs": [
    {
     "data": {
      "text/plain": "[('a', 'aa'), ('b', 'bb'), ('c', 'cc'), ('d', 'dd')]"
     },
     "metadata": {},
     "output_type": "execute_result",
     "execution_count": 5
    }
   ],
   "source": [
    "# A função zip() faz a união pelas chaves\n",
    "list(zip(d1,d2))\n",
    "\n"
   ],
   "metadata": {
    "collapsed": false,
    "pycharm": {
     "name": "#%%\n",
     "is_executing": false
    }
   }
  },
  {
   "cell_type": "code",
   "execution_count": 6,
   "outputs": [],
   "source": [
    "# se quisermos unir os dicionários pelos valores, devemos fazer o seguinte:\n"
   ],
   "metadata": {
    "collapsed": false,
    "pycharm": {
     "name": "#%%\n",
     "is_executing": false
    }
   }
  },
  {
   "cell_type": "code",
   "execution_count": 7,
   "outputs": [
    {
     "data": {
      "text/plain": "[(1, 11), (2, 22), (3, 33), (4, 44)]"
     },
     "metadata": {},
     "output_type": "execute_result",
     "execution_count": 7
    }
   ],
   "source": [
    "# Unindo valores\n",
    "list(zip(d1.values(),d2.values()))\n"
   ],
   "metadata": {
    "collapsed": false,
    "pycharm": {
     "name": "#%%\n",
     "is_executing": false
    }
   }
  },
  {
   "cell_type": "code",
   "execution_count": 8,
   "outputs": [
    {
     "data": {
      "text/plain": "[('a', 11), ('b', 22), ('c', 33), ('d', 44)]"
     },
     "metadata": {},
     "output_type": "execute_result",
     "execution_count": 8
    }
   ],
   "source": [
    "# Unindo chaves com valores\n",
    "list(zip(d1,d2.values()))\n"
   ],
   "metadata": {
    "collapsed": false,
    "pycharm": {
     "name": "#%%\n",
     "is_executing": false
    }
   }
  },
  {
   "cell_type": "code",
   "execution_count": 9,
   "outputs": [],
   "source": [
    "# A função zip() é muito utilizada em processos de permutação de valores entre listas e dicionários. Essa é uma \n",
    "# atividade rotineira de um cientista de dados.\n",
    "\n",
    "# Veja abaixo um exemplo de função que faz a troca de valores entre dois dicionários.\n",
    "\n"
   ],
   "metadata": {
    "collapsed": false,
    "pycharm": {
     "name": "#%%\n",
     "is_executing": false
    }
   }
  },
  {
   "cell_type": "code",
   "execution_count": null,
   "outputs": [],
   "source": [
    "# Dicionários\n",
    "d1 = \n",
    "\n",
    "\n",
    "\n"
   ],
   "metadata": {
    "collapsed": false,
    "pycharm": {
     "name": "#%%\n"
    }
   }
  }
 ],
 "metadata": {
  "kernelspec": {
   "name": "python3",
   "language": "python",
   "display_name": "Python 3"
  },
  "language_info": {
   "mimetype": "text/x-python",
   "nbconvert_exporter": "python",
   "name": "python",
   "pygments_lexer": "ipython3",
   "version": "3.7.4-final",
   "file_extension": ".py",
   "codemirror_mode": {
    "version": 3,
    "name": "ipython"
   }
  },
  "pycharm": {
   "stem_cell": {
    "cell_type": "raw",
    "source": [],
    "metadata": {
     "collapsed": false
    }
   }
  }
 },
 "nbformat": 4,
 "nbformat_minor": 2
}