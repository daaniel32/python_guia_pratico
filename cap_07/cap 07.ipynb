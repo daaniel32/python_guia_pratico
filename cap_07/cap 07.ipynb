{
  "cells": [
    {
      "metadata": {
        "collapsed": true
      },
      "cell_type": "markdown",
      "source": "# Funções especiais  "
    },
    {
      "metadata": {
        "trusted": true
      },
      "cell_type": "code",
      "source": "# O mundo do cientista de dados é repleto de atividades de transformações de dados\n# Muitas dessas atividades estão relacionadas à limpeza e organização.\n# Com frequência precisamos executar ações repetitivas, como remover ou adicionar dados,\n# que necessitam da aplicação de uma função específica.\n# Pensando nisso, foram desenvolvidas algumas funções visando agilizar # loops #  \n# de processamento no Python",
      "execution_count": 2,
      "outputs": []
    },
    {
      "metadata": {
        "trusted": true
      },
      "cell_type": "code",
      "source": "# Essas funções estão otimizadas e permitem que analistas executem suas atividades com grande desempenho\n# de velocidade e praticidade.\n# Iremos estudar vários exemplos cada uma das seguintes funções, a saber:\n# 'Map', 'Reducer', 'Filter', 'Zip' e 'Enumerate'.\n\n# Mais especificamente iremos estudar as funões internas *built-in:\n\n# map(função, sequência)\n# reduce(função, sequência)\n# filter(função, sequência)\n# lambda",
      "execution_count": 3,
      "outputs": []
    },
    {
      "metadata": {},
      "cell_type": "markdown",
      "source": "# Função Map"
    },
    {
      "metadata": {
        "trusted": true
      },
      "cell_type": "code",
      "source": "# A programação orientada a expressão funcional é orientada a expressão que precisam \n# ser interpretadas diretamente com base em uma lógica.\n# A função 'map()' é exempol de função Map:\n# Veja abaixo a estrutura principal da função Map:\n# map(Fun,Seq)",
      "execution_count": 1,
      "outputs": []
    },
    {
      "metadata": {
        "trusted": true
      },
      "cell_type": "code",
      "source": "# Sempre que possivel vale a pena evitar o uso de 'loop for'.\n# Para isso, temos a função map() que aplica uma ação(função) a todos os elementos de uma lista\n# sem a necessidade de utilizar o 'loop for'.\n# Assim, a função 'map()' retorna uma nova lista com elementos alterados pela função escolhida (Fun).",
      "execution_count": 1,
      "outputs": []
    },
    {
      "metadata": {
        "trusted": true
      },
      "cell_type": "code",
      "source": "# Vamos a um exemplo prático.\n# Primeiro precisamos criar funções para serem aplicadas as listas a partir da função 'Map'.\n# Iremos criar uma função preço de uma corrida de áxi, naqual temos um valor fixo, \n# que representa o valor cobrado logo quando entramos no é a seguintetáxi (R$ 2,50), mais um valor variável referente\n# à quilometragem percorrida multiplicada por uma taxa constante igual a R$ 1,50.\n\n# A função é a seguinte: P(x) = 2,5 + 1.5*x , onde x representa a quilometragem ",
      "execution_count": 2,
      "outputs": []
    },
    {
      "metadata": {
        "trusted": true
      },
      "cell_type": "code",
      "source": "# Função para cálculo do preço da corrida\ndef preCorridaTaxi(x):\n    return(2.5 + 1.5 * x)",
      "execution_count": 2,
      "outputs": []
    },
    {
      "metadata": {
        "trusted": true
      },
      "cell_type": "code",
      "source": "# Listas de distância percorridas\ndistancias = [120, 100, 50, 70, 88]",
      "execution_count": 3,
      "outputs": []
    },
    {
      "metadata": {
        "trusted": true
      },
      "cell_type": "code",
      "source": "# Preço das corridas\npreco = list(map(preCorridaTaxi, distancias))",
      "execution_count": 4,
      "outputs": []
    },
    {
      "metadata": {
        "trusted": true
      },
      "cell_type": "code",
      "source": "preco",
      "execution_count": 5,
      "outputs": [
        {
          "output_type": "execute_result",
          "execution_count": 5,
          "data": {
            "text/plain": "[182.5, 152.5, 77.5, 107.5, 134.5]"
          },
          "metadata": {}
        }
      ]
    },
    {
      "metadata": {
        "trusted": true
      },
      "cell_type": "code",
      "source": "# Desse modo, a função built-in map aplicou a função 'preCorridaTaxi' interativamente\n# a cada um dos elementos da lista 'distancias', retornando um interador(<map>).\n# Contudo, como queremos uma lista como retorno, precisamos utilizar a função 'list'.\n# Podemos tornar ainda mais eficiente nosso código a partir das 'expressões lambda'.\n# Veja o exemplo abaixo.",
      "execution_count": 6,
      "outputs": []
    },
    {
      "metadata": {
        "trusted": true
      },
      "cell_type": "code",
      "source": "# Uso de expressões \npreco = list(map(lambda x: 2.5 + 1.5 * x, distancias ))",
      "execution_count": 7,
      "outputs": []
    },
    {
      "metadata": {
        "trusted": true
      },
      "cell_type": "code",
      "source": "preco",
      "execution_count": 8,
      "outputs": [
        {
          "output_type": "execute_result",
          "execution_count": 8,
          "data": {
            "text/plain": "[182.5, 152.5, 77.5, 107.5, 134.5]"
          },
          "metadata": {}
        }
      ]
    },
    {
      "metadata": {
        "trusted": true
      },
      "cell_type": "code",
      "source": "",
      "execution_count": null,
      "outputs": []
    }
  ],
  "metadata": {
    "kernelspec": {
      "name": "python36",
      "display_name": "Python 3.6",
      "language": "python"
    },
    "language_info": {
      "mimetype": "text/x-python",
      "nbconvert_exporter": "python",
      "name": "python",
      "pygments_lexer": "ipython3",
      "version": "3.6.6",
      "file_extension": ".py",
      "codemirror_mode": {
        "version": 3,
        "name": "ipython"
      }
    }
  },
  "nbformat": 4,
  "nbformat_minor": 2
}