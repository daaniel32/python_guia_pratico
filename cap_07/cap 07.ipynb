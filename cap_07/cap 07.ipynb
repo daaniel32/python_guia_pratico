{
 "cells": [
  {
   "cell_type": "markdown",
   "metadata": {
    "collapsed": true
   },
   "source": [
    "# Funções especiais  "
   ]
  },
  {
   "cell_type": "code",
   "execution_count": 2,
   "metadata": {},
   "outputs": [],
   "source": [
    "# O mundo do cientista de dados é repleto de atividades de transformações de dados\n",
    "# Muitas dessas atividades estão relacionadas à limpeza e organização.\n",
    "# Com frequência precisamos executar ações repetitivas, como remover ou adicionar dados,\n",
    "# que necessitam da aplicação de uma função específica.\n",
    "# Pensando nisso, foram desenvolvidas algumas funções visando agilizar # loops #  \n",
    "# de processamento no Python"
   ]
  },
  {
   "cell_type": "code",
   "execution_count": 3,
   "metadata": {},
   "outputs": [],
   "source": [
    "# Essas funções estão otimizadas e permitem que analistas executem suas atividades com grande desempenho\n",
    "# de velocidade e praticidade.\n",
    "# Iremos estudar vários exemplos cada uma das seguintes funções, a saber:\n",
    "# 'Map', 'Reducer', 'Filter', 'Zip' e 'Enumerate'.\n",
    "\n",
    "# Mais especificamente iremos estudar as funões internas *built-in:\n",
    "\n",
    "# map(função, sequência)\n",
    "# reduce(função, sequência)\n",
    "# filter(função, sequência)\n",
    "# lambda"
   ]
  },
  {
   "cell_type": "markdown",
   "metadata": {},
   "source": [
    "# Função Map"
   ]
  },
  {
   "cell_type": "code",
   "execution_count": 4,
   "metadata": {},
   "outputs": [],
   "source": [
    "# A programação orientada a expressão funcional é orientada a expressão que precisam \n",
    "# ser interpretadas diretamente com base em uma lógica.\n",
    "# A função 'map()' é exempol de função Map:\n",
    "# Veja abaixo a estrutura principal da função Map:\n",
    "# map(Fun,Seq)"
   ]
  },
  {
   "cell_type": "code",
   "execution_count": 5,
   "metadata": {},
   "outputs": [],
   "source": [
    "# Sempre que possivel vale a pena evitar o uso de 'loop for'.\n",
    "# Para isso, temos a função map() que aplica uma ação(função) a todos os elementos de uma lista\n",
    "# sem a necessidade de utilizar o 'loop for'.\n",
    "# Assim, a função 'map()' retorna uma nova lista com elementos alterados pela função escolhida (Fun)."
   ]
  },
  {
   "cell_type": "code",
   "execution_count": 6,
   "metadata": {},
   "outputs": [],
   "source": [
    "# Vamos a um exemplo prático.\n",
    "# Primeiro precisamos criar funções para serem aplicadas as listas a partir da função 'Map'.\n",
    "# Iremos criar uma função preço de uma corrida de áxi, naqual temos um valor fixo, \n",
    "# que representa o valor cobrado logo quando entramos no é a seguintetáxi (R$ 2,50), mais um valor variável referente\n",
    "# à quilometragem percorrida multiplicada por uma taxa constante igual a R$ 1,50.\n",
    "\n",
    "# A função é a seguinte: P(x) = 2,5 + 1.5*x , onde x representa a quilometragem "
   ]
  },
  {
   "cell_type": "code",
   "execution_count": 7,
   "metadata": {},
   "outputs": [],
   "source": [
    "# Função para cálculo do preço da corrida\n",
    "def preCorridaTaxi(x):\n",
    "    return(2.5 + 1.5 * x)"
   ]
  },
  {
   "cell_type": "code",
   "execution_count": 8,
   "metadata": {},
   "outputs": [],
   "source": [
    "# Listas de distância percorridas\n",
    "distancias = [120, 100, 50, 70, 88]"
   ]
  },
  {
   "cell_type": "code",
   "execution_count": 9,
   "metadata": {},
   "outputs": [],
   "source": [
    "# Preço das corridas\n",
    "preco = list(map(preCorridaTaxi, distancias))"
   ]
  },
  {
   "cell_type": "code",
   "execution_count": 10,
   "metadata": {},
   "outputs": [
    {
     "data": {
      "text/plain": "[182.5, 152.5, 77.5, 107.5, 134.5]"
     },
     "execution_count": 10,
     "metadata": {},
     "output_type": "execute_result"
    }
   ],
   "source": [
    "preco"
   ]
  },
  {
   "cell_type": "code",
   "execution_count": 11,
   "metadata": {},
   "outputs": [],
   "source": [
    "# Desse modo, a função built-in map aplicou a função 'preCorridaTaxi' interativamente\n",
    "# a cada um dos elementos da lista 'distancias', retornando um interador(<map>).\n",
    "# Contudo, como queremos uma lista como retorno, precisamos utilizar a função 'list'.\n",
    "# Podemos tornar ainda mais eficiente nosso código a partir das 'expressões lambda'.\n",
    "# Veja o exemplo abaixo."
   ]
  },
  {
   "cell_type": "code",
   "execution_count": 12,
   "metadata": {},
   "outputs": [],
   "source": [
    "# Uso de expressões \n",
    "preco = list(map(lambda x: 2.5 + 1.5 * x, distancias ))"
   ]
  },
  {
   "cell_type": "code",
   "execution_count": 13,
   "metadata": {},
   "outputs": [
    {
     "data": {
      "text/plain": "[182.5, 152.5, 77.5, 107.5, 134.5]"
     },
     "execution_count": 13,
     "metadata": {},
     "output_type": "execute_result"
    }
   ],
   "source": [
    "preco"
   ]
  },
  {
   "cell_type": "code",
   "execution_count": 14,
   "metadata": {},
   "outputs": [],
   "source": [
    "# Vamos estudar um exemplo que apresenta o enorme poder que temos nas mãos a partir da função map()."
   ]
  },
  {
   "cell_type": "code",
   "execution_count": 15,
   "metadata": {},
   "outputs": [],
   "source": [
    "# Listas\n",
    "L1 = [10,20,30,40,50]\n",
    "L2 = [1,2,3,4,5]\n",
    "L3 = [11,22,33,44,55]"
   ]
  },
  {
   "cell_type": "code",
   "execution_count": null,
   "outputs": [],
   "source": [
    "soma_listas = list(map(lambda a,b,c: a+b+c, L1,L2,L3))"
   ],
   "metadata": {
    "collapsed": false,
    "pycharm": {
     "name": "#%%\n"
    }
   }
  },
  {
   "cell_type": "code",
   "execution_count": null,
   "outputs": [],
   "source": [
    "soma_listas"
   ],
   "metadata": {
    "collapsed": false,
    "pycharm": {
     "name": "#%%\n"
    }
   }
  },
  {
   "cell_type": "code",
   "execution_count": null,
   "outputs": [],
   "source": [
    "# No caso acima foomos capazes de aplicar ao mesmo tempo uma  função de três variáveis, \n",
    "# em que cada variável pode ser representa como um elemento de três listas."
   ],
   "metadata": {
    "collapsed": false,
    "pycharm": {
     "name": "#%%\n"
    }
   }
  },
  {
   "cell_type": "code",
   "execution_count": null,
   "outputs": [],
   "source": [
    "# Assim como a função map() a função reduce() recebe dois argumentos apenas.\n",
    "# reduce(fun,seq).\n",
    "# O primeiro elemento da sequência de elementos é uma sequência de elementos\n",
    "# (uma lista por exemplo).\n",
    "# A função reduce, diferente da função map, aplica a cada elemento da sequência\n",
    "# a função passada como parâmetros até que reste apenas um elemento."
   ],
   "metadata": {
    "collapsed": false,
    "pycharm": {
     "name": "#%%\n"
    }
   }
  },
  {
   "cell_type": "code",
   "execution_count": null,
   "outputs": [],
   "source": [
    "# A função \"reduce()\" apresenta uma particularidade. Embora seja uma função \n",
    "# built-in(que não precisa ser importada), a função reduce() precisa ser importada de \n",
    "#  'functools'.\n",
    "# Vamos a um exemplo prático para esclarecer melhor tudo isso."
   ],
   "metadata": {
    "collapsed": false,
    "pycharm": {
     "name": "#%%\n"
    }
   }
  },
  {
   "cell_type": "code",
   "execution_count": null,
   "outputs": [],
   "source": [
    "from functools import reduce"
   ],
   "metadata": {
    "collapsed": false,
    "pycharm": {
     "name": "#%%\n"
    }
   }
  },
  {
   "cell_type": "code",
   "execution_count": null,
   "outputs": [],
   "source": [
    "lista = [1, 2, -3, 4, 5, -9]\n",
    "def soma(a,b):\n",
    "    return a + b"
   ],
   "metadata": {
    "collapsed": false,
    "pycharm": {
     "name": "#%%\n"
    }
   }
  },
  {
   "cell_type": "code",
   "execution_count": null,
   "outputs": [],
   "source": [
    "reduce(soma, lista)"
   ],
   "metadata": {
    "collapsed": false,
    "pycharm": {
     "name": "#%%\n"
    }
   }
  },
  {
   "cell_type": "code",
   "execution_count": null,
   "outputs": [],
   "source": [
    "# Vamos entender agora como chegamos ao resultado ZERO mostrado acima.\n",
    "# as operações com a função reduce() são feitas em pares.\n",
    "# Assim, reduce() aplica a função soma aos pares dos elementos da lista.\n",
    "# Em outras palavras temos:\n",
    "\n",
    "# (((((1 + 2) + (-3)) + 4) + 5) + (-9)) = 0\n",
    " "
   ],
   "metadata": {
    "collapsed": false,
    "pycharm": {
     "name": "#%%\n"
    }
   }
  },
  {
   "cell_type": "markdown",
   "source": [
    "# Função Filter"
   ],
   "metadata": {
    "collapsed": false
   }
  },
  {
   "cell_type": "code",
   "execution_count": null,
   "outputs": [],
   "source": [
    "# Assim como as função funções map() e reduce(), a função filter() \n",
    "# também recebe dois argumentos, uma função predefinida e uma sequência de dados.\n",
    "# A função filter() permite que possamos fazer filtros em elmentos de uma sequência\n",
    "# de valores de maneira a otimizarda. Uma vez encontrado o valor baseadono filtro\n",
    "# da função(Fun), iremos ter um retorno true da função filter()."
   ],
   "metadata": {
    "collapsed": false,
    "pycharm": {
     "name": "#%%\n"
    }
   }
  },
  {
   "cell_type": "code",
   "execution_count": null,
   "outputs": [],
   "source": [
    "# Função para verificar se nº é par\n",
    "def isPar(num):\n",
    "    if num % 2 == 0:\n",
    "        return True\n",
    "    else:\n",
    "        return False"
   ],
   "metadata": {
    "collapsed": false,
    "pycharm": {
     "name": "#%%\n"
    }
   }
  },
  {
   "cell_type": "code",
   "execution_count": null,
   "outputs": [],
   "source": [
    "soma_listas"
   ],
   "metadata": {
    "collapsed": false,
    "pycharm": {
     "name": "#%%\n"
    }
   }
  },
  {
   "cell_type": "code",
   "execution_count": null,
   "outputs": [],
   "source": [
    "# No caso acima foomos capazes de aplicar ao mesmo tempo uma  função de três variáveis, \n",
    "# em que cada variável pode ser representa como um elemento de três listas."
   ],
   "metadata": {
    "collapsed": false,
    "pycharm": {
     "name": "#%%\n"
    }
   }
  },
  {
   "cell_type": "code",
   "execution_count": null,
   "outputs": [],
   "source": [
    "# Assim como a função map() a função reduce() recebe dois argumentos apenas.\n",
    "# reduce(fun,seq).\n",
    "# O primeiro elemento da sequência de elementos é uma sequência de elementos\n",
    "# (uma lista por exemplo).\n",
    "# A função reduce, diferente da função map, aplica a cada elemento da sequência\n",
    "# a função passada como parâmetros até que reste apenas um elemento."
   ],
   "metadata": {
    "collapsed": false,
    "pycharm": {
     "name": "#%%\n"
    }
   }
  },
  {
   "cell_type": "code",
   "execution_count": null,
   "outputs": [],
   "source": [
    "# A função \"reduce()\" apresenta uma particularidade. Embora seja uma função \n",
    "# built-in(que não precisa ser importada), a função reduce() precisa ser importada de \n",
    "#  'functools'.\n",
    "# Vamos a um exemplo prático para esclarecer melhor tudo isso."
   ],
   "metadata": {
    "collapsed": false,
    "pycharm": {
     "name": "#%%\n"
    }
   }
  },
  {
   "cell_type": "code",
   "execution_count": null,
   "outputs": [],
   "source": [
    "from functools import reduce"
   ],
   "metadata": {
    "collapsed": false,
    "pycharm": {
     "name": "#%%\n"
    }
   }
  },
  {
   "cell_type": "code",
   "execution_count": null,
   "outputs": [],
   "source": [
    "lista = [1, 2, -3, 4, 5, -9]\n",
    "def soma(a,b):\n",
    "    return a + b"
   ],
   "metadata": {
    "collapsed": false,
    "pycharm": {
     "name": "#%%\n"
    }
   }
  },
  {
   "cell_type": "code",
   "execution_count": null,
   "outputs": [],
   "source": [
    "reduce(soma, lista)"
   ],
   "metadata": {
    "collapsed": false,
    "pycharm": {
     "name": "#%%\n"
    }
   }
  },
  {
   "cell_type": "code",
   "execution_count": null,
   "outputs": [],
   "source": [
    "# Vamos entender agora como chegamos ao resultado ZERO mostrado acima.\n",
    "# as operações com a função reduce() são feitas em pares.\n",
    "# Assim, reduce() aplica a função soma aos pares dos elementos da lista.\n",
    "# Em outras palavras temos:\n",
    "\n",
    "# (((((1 + 2) + (-3)) + 4) + 5) + (-9)) = 0\n",
    " "
   ],
   "metadata": {
    "collapsed": false,
    "pycharm": {
     "name": "#%%\n"
    }
   }
  },
  {
   "cell_type": "markdown",
   "source": [
    "# Função Filter"
   ],
   "metadata": {
    "collapsed": false
   }
  },
  {
   "cell_type": "code",
   "execution_count": null,
   "outputs": [],
   "source": [
    "# Assim como as função funções map() e reduce(), a função filter() \n",
    "# também recebe dois argumentos, uma função predefinida e uma sequência de dados.\n",
    "# A função filter() permite que possamos fazer filtros em elmentos de uma sequência\n",
    "# de valores de maneira a otimizarda. Uma vez encontrado o valor baseadono filtro\n",
    "# da função(Fun), iremos ter um retorno true da função filter()."
   ],
   "metadata": {
    "collapsed": false,
    "pycharm": {
     "name": "#%%\n"
    }
   }
  },
  {
   "cell_type": "code",
   "execution_count": null,
   "outputs": [],
   "source": [
    "# Função para verificar se nº é par\n",
    "def isPar(num):\n",
    "    if num % 2 == 0:\n",
    "        return True\n",
    "    else:\n",
    "        return False"
   ],
   "metadata": {
    "collapsed": false,
    "pycharm": {
     "name": "#%%\n"
    }
   }
  },
  {
   "cell_type": "code",
   "execution_count": null,
   "outputs": [],
   "source": [
    "soma_listas"
   ],
   "metadata": {
    "collapsed": false,
    "pycharm": {
     "name": "#%%\n"
    }
   }
  },
  {
   "cell_type": "code",
   "execution_count": null,
   "outputs": [],
   "source": [
    "# No caso acima foomos capazes de aplicar ao mesmo tempo uma  função de três variáveis, \n",
    "# em que cada variável pode ser representa como um elemento de três listas."
   ],
   "metadata": {
    "collapsed": false,
    "pycharm": {
     "name": "#%%\n"
    }
   }
  },
  {
   "cell_type": "code",
   "execution_count": null,
   "outputs": [],
   "source": [
    "# Assim como a função map() a função reduce() recebe dois argumentos apenas.\n",
    "# reduce(fun,seq).\n",
    "# O primeiro elemento da sequência de elementos é uma sequência de elementos\n",
    "# (uma lista por exemplo).\n",
    "# A função reduce, diferente da função map, aplica a cada elemento da sequência\n",
    "# a função passada como parâmetros até que reste apenas um elemento."
   ],
   "metadata": {
    "collapsed": false,
    "pycharm": {
     "name": "#%%\n"
    }
   }
  },
  {
   "cell_type": "code",
   "execution_count": null,
   "outputs": [],
   "source": [
    "# A função \"reduce()\" apresenta uma particularidade. Embora seja uma função \n",
    "# built-in(que não precisa ser importada), a função reduce() precisa ser importada de \n",
    "#  'functools'.\n",
    "# Vamos a um exemplo prático para esclarecer melhor tudo isso."
   ],
   "metadata": {
    "collapsed": false,
    "pycharm": {
     "name": "#%%\n"
    }
   }
  },
  {
   "cell_type": "code",
   "execution_count": null,
   "outputs": [],
   "source": [
    "from functools import reduce"
   ],
   "metadata": {
    "collapsed": false,
    "pycharm": {
     "name": "#%%\n"
    }
   }
  },
  {
   "cell_type": "code",
   "execution_count": null,
   "outputs": [],
   "source": [
    "lista = [1, 2, -3, 4, 5, -9]\n",
    "def soma(a,b):\n",
    "    return a + b"
   ],
   "metadata": {
    "collapsed": false,
    "pycharm": {
     "name": "#%%\n"
    }
   }
  },
  {
   "cell_type": "code",
   "execution_count": null,
   "outputs": [],
   "source": [
    "reduce(soma, lista)"
   ],
   "metadata": {
    "collapsed": false,
    "pycharm": {
     "name": "#%%\n"
    }
   }
  },
  {
   "cell_type": "code",
   "execution_count": null,
   "outputs": [],
   "source": [
    "# Vamos entender agora como chegamos ao resultado ZERO mostrado acima.\n",
    "# as operações com a função reduce() são feitas em pares.\n",
    "# Assim, reduce() aplica a função soma aos pares dos elementos da lista.\n",
    "# Em outras palavras temos:\n",
    "\n",
    "# (((((1 + 2) + (-3)) + 4) + 5) + (-9)) = 0\n",
    " "
   ],
   "metadata": {
    "collapsed": false,
    "pycharm": {
     "name": "#%%\n"
    }
   }
  },
  {
   "cell_type": "markdown",
   "source": [
    "# Função Filter"
   ],
   "metadata": {
    "collapsed": false
   }
  },
  {
   "cell_type": "code",
   "execution_count": null,
   "outputs": [],
   "source": [
    "# Assim como as função funções map() e reduce(), a função filter() \n",
    "# também recebe dois argumentos, uma função predefinida e uma sequência de dados.\n",
    "# A função filter() permite que possamos fazer filtros em elmentos de uma sequência\n",
    "# de valores de maneira a otimizarda. Uma vez encontrado o valor baseadono filtro\n",
    "# da função(Fun), iremos ter um retorno true da função filter()."
   ],
   "metadata": {
    "collapsed": false,
    "pycharm": {
     "name": "#%%\n"
    }
   }
  },
  {
   "cell_type": "code",
   "execution_count": null,
   "outputs": [],
   "source": [
    "# Função para verificar se nº é par\n",
    "def isPar(num):\n",
    "    if num % 2 == 0:\n",
    "        return True\n",
    "    else:\n",
    "        return False"
   ],
   "metadata": {
    "collapsed": false,
    "pycharm": {
     "name": "#%%\n"
    }
   }
  },
  {
   "cell_type": "code",
   "execution_count": null,
   "outputs": [],
   "source": [],
   "metadata": {
    "collapsed": false,
    "pycharm": {
     "name": "#%%\n"
    }
   }
  },
  {
   "cell_type": "code",
   "execution_count": 16,
   "metadata": {},
   "outputs": [],
   "source": []
  },
  {
   "cell_type": "code",
   "execution_count": 17,
   "metadata": {},
   "outputs": [
    {
     "data": {
      "text/plain": "[22, 44, 66, 88, 110]"
     },
     "execution_count": 17,
     "metadata": {},
     "output_type": "execute_result"
    }
   ],
   "source": [
    "soma_listas"
   ]
  },
  {
   "cell_type": "code",
   "execution_count": 18,
   "metadata": {},
   "outputs": [],
   "source": [
    "# No caso acima foomos capazes de aplicar ao mesmo tempo uma  função de três variáveis, \n",
    "# em que cada variável pode ser representa como um elemento de três listas."
   ]
  },
  {
   "cell_type": "code",
   "execution_count": 19,
   "metadata": {},
   "outputs": [],
   "source": [
    "# Assim como a função map() a função reduce() recebe dois argumentos apenas.\n",
    "# reduce(fun,seq).\n",
    "# O primeiro elemento da sequência de elementos é uma sequência de elementos\n",
    "# (uma lista por exemplo).\n",
    "# A função reduce, diferente da função map, aplica a cada elemento da sequência\n",
    "# a função passada como parâmetros até que reste apenas um elemento."
   ]
  },
  {
   "cell_type": "code",
   "execution_count": 21,
   "metadata": {},
   "outputs": [],
   "source": [
    "# A função \"reduce()\" apresenta uma particularidade. Embora seja uma função \n",
    "# built-in(que não precisa ser importada), a função reduce() precisa ser importada de \n",
    "#  'functools'.\n",
    "# Vamos a um exemplo prático para esclarecer melhor tudo isso."
   ]
  },
  {
   "cell_type": "code",
   "execution_count": 22,
   "metadata": {},
   "outputs": [],
   "source": [
    "from functools import reduce"
   ]
  },
  {
   "cell_type": "code",
   "execution_count": 23,
   "metadata": {},
   "outputs": [],
   "source": [
    "lista = [1, 2, -3, 4, 5, -9]\n",
    "def soma(a,b):\n",
    "    return a + b"
   ]
  },
  {
   "cell_type": "code",
   "execution_count": 24,
   "metadata": {},
   "outputs": [
    {
     "data": {
      "text/plain": "0"
     },
     "execution_count": 24,
     "metadata": {},
     "output_type": "execute_result"
    }
   ],
   "source": [
    "reduce(soma, lista)"
   ]
  },
  {
   "cell_type": "code",
   "execution_count": 25,
   "metadata": {},
   "outputs": [],
   "source": [
    "# Vamos entender agora como chegamos ao resultado ZERO mostrado acima.\n",
    "# as operações com a função reduce() são feitas em pares.\n",
    "# Assim, reduce() aplica a função soma aos pares dos elementos da lista.\n",
    "# Em outras palavras temos:\n",
    "\n",
    "# (((((1 + 2) + (-3)) + 4) + 5) + (-9)) = 0\n",
    " "
   ]
  },
  {
   "cell_type": "markdown",
   "metadata": {},
   "source": [
    "# Função Filter"
   ]
  },
  {
   "cell_type": "code",
   "execution_count": 4,
   "metadata": {},
   "outputs": [],
   "source": [
    "# Assim como as função funções map() e reduce(), a função filter() \n",
    "# também recebe dois argumentos, uma função predefinida e uma sequência de dados.\n",
    "# A função filter() permite que possamos fazer filtros em elmentos de uma sequência\n",
    "# de valores de maneira a otimizarda. Uma vez encontrado o valor baseadono filtro\n",
    "# da função(Fun), iremos ter um retorno true da função filter()."
   ]
  },
  {
   "cell_type": "code",
   "execution_count": 7,
   "metadata": {},
   "outputs": [],
   "source": [
    "# Função para verificar se nº é par\n",
    "def isPar(num):\n",
    "    if num % 2 == 0:\n",
    "        return True\n",
    "    else:\n",
    "        return False"
   ]
  },
  {
   "cell_type": "code",
   "execution_count": null,
   "metadata": {},
   "outputs": [],
   "source": []
  }
 ],
 "metadata": {
  "kernelspec": {
   "name": "python37464bitbaseconda31ebb73e55d24b9f8975dabe92e907d7",
   "display_name": "Python 3.7.4 64-bit ('base': conda)",
   "language": "python"
  },
  "language_info": {
   "mimetype": "text/x-python",
   "nbconvert_exporter": "python",
   "name": "python",
   "pygments_lexer": "ipython3",
   "version": "3.7.4-final",
   "file_extension": ".py",
   "codemirror_mode": {
    "version": 3,
    "name": "ipython"
   }
  },
  "pycharm": {
   "stem_cell": {
    "cell_type": "raw",
    "source": [],
    "metadata": {
     "collapsed": false
    }
   }
  }
 },
 "nbformat": 4,
 "nbformat_minor": 2
}