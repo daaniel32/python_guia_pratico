{
 "cells": [
  {
   "cell_type": "markdown",
   "metadata": {
    "collapsed": true,
    "pycharm": {
     "name": "#%% md\n",
     "is_executing": false
    }
   },
   "source": [
    " \n",
    "# Classes e Obejtos no Python"
   ]
  },
  {
   "cell_type": "code",
   "execution_count": 3,
   "outputs": [],
   "source": [
    "# Vejamos a criação de uma classe chamada 'Animal' com o python. Por convenção, o nome de uma classe deve começar com \n",
    "# letra maiúscula\n",
    "\n"
   ],
   "metadata": {
    "collapsed": false,
    "pycharm": {
     "name": "#%%\n",
     "is_executing": false
    }
   }
  },
  {
   "cell_type": "code",
   "execution_count": 4,
   "outputs": [],
   "source": [
    "# Criar uma classe\n",
    "class Animal:\n",
    "    def __init__(self, tipo, nome=None, idade=None, sexo=None):\n",
    "        self.tipo = tipo\n",
    "        self.nome = nome\n",
    "        self.idade = idade\n",
    "        self.sexo = sexo\n",
    "        \n",
    "    def comer(self):\n",
    "        return print(\"O\", self.tipo, \" chamado \", self.nome, \" está comendo! \")"
   ],
   "metadata": {
    "collapsed": false,
    "pycharm": {
     "name": "#%%\n",
     "is_executing": false
    }
   }
  },
  {
   "cell_type": "code",
   "execution_count": 5,
   "outputs": [],
   "source": [
    "# A diretiva __init__ define um método especial. O método __init__ será chamado sempre  ue estamos instanciando(criando)\n",
    "# um determinado objeto a partir de uma classe específica. Esse método é chamado de construtor, que iniciamos um nosso \n",
    "# objeto com alguns valores padrâo.\n",
    "# Assim toda vez que instanciamos um novo objeto o construtor é chamado."
   ],
   "metadata": {
    "collapsed": false,
    "pycharm": {
     "name": "#%%\n",
     "is_executing": false
    }
   }
  },
  {
   "cell_type": "code",
   "execution_count": 6,
   "outputs": [],
   "source": [
    "# No início dos estudos de POO ficamos confusos com algumas etapas. \n",
    "# Fique calmo que isso é normal.\n",
    "# Por exemplo, o parâmetro \"self\"  está sendo inserido dentro do método __init__. \n",
    "# Esse é um padrão utilizado pelos desenvolvedores. \n",
    "# O \"self\" é  referência a cadad atributo de um objeto criado a partir da classe.\n",
    "# Nos exemplos a seguir esse uso ficará mais evidente."
   ],
   "metadata": {
    "collapsed": false,
    "pycharm": {
     "name": "#%%\n",
     "is_executing": false
    }
   }
  },
  {
   "cell_type": "code",
   "execution_count": 7,
   "outputs": [],
   "source": [
    "# Note que na classe \"Animal\" tem um método chamado \"comer()\". \n",
    "# Uma vez instanciado um objeto nós teremos acesso aos atributos tipo, nome, idade e sexo bem como do método 'comer'.\n",
    "# Veja abaixo como criar uma instância de um animal"
   ],
   "metadata": {
    "collapsed": false,
    "pycharm": {
     "name": "#%%\n",
     "is_executing": false
    }
   }
  },
  {
   "cell_type": "code",
   "execution_count": 12,
   "outputs": [],
   "source": [
    "# Criar um objeto animal chamado cachorro\n",
    "cachorro = Animal(\"cachorro\", \"Bob\")"
   ],
   "metadata": {
    "collapsed": false,
    "pycharm": {
     "name": "#%%\n",
     "is_executing": false
    }
   }
  },
  {
   "cell_type": "code",
   "execution_count": 13,
   "outputs": [
    {
     "data": {
      "text/plain": "'cachorro'"
     },
     "metadata": {},
     "output_type": "execute_result",
     "execution_count": 13
    }
   ],
   "source": [
    "# Os objetos e métodos da classe animal agora podem ser encontrados no objeto cachorro. \n",
    "# Para chamarmos os atributos de um objeto de um objeto não precisamos abrir e fechar parênteses.  "
   ],
   "metadata": {
    "collapsed": false,
    "pycharm": {
     "name": "#%%\n",
     "is_executing": false
    }
   }
  },
  {
   "cell_type": "code",
   "execution_count": 15,
   "outputs": [
    {
     "data": {
      "text/plain": "'cachorro'"
     },
     "metadata": {},
     "output_type": "execute_result",
     "execution_count": 15
    }
   ],
   "source": [
    "cachorro.tipo"
   ],
   "metadata": {
    "collapsed": false,
    "pycharm": {
     "name": "#%%\n",
     "is_executing": false
    }
   }
  },
  {
   "cell_type": "code",
   "execution_count": 16,
   "outputs": [],
   "source": [
    "cachorro.idade"
   ],
   "metadata": {
    "collapsed": false,
    "pycharm": {
     "name": "#%%\n",
     "is_executing": false
    }
   }
  },
  {
   "cell_type": "code",
   "execution_count": 17,
   "outputs": [
    {
     "name": "stdout",
     "text": [
      "O cachorro  chamado  Bob  está comendo! \n"
     ],
     "output_type": "stream"
    }
   ],
   "source": [
    "cachorro.comer()"
   ],
   "metadata": {
    "collapsed": false,
    "pycharm": {
     "name": "#%%\n",
     "is_executing": false
    }
   }
  },
  {
   "cell_type": "code",
   "execution_count": 18,
   "outputs": [
    {
     "data": {
      "text/plain": "__main__.Animal"
     },
     "metadata": {},
     "output_type": "execute_result",
     "execution_count": 18
    }
   ],
   "source": [
    "type(cachorro)"
   ],
   "metadata": {
    "collapsed": false,
    "pycharm": {
     "name": "#%%\n",
     "is_executing": false
    }
   }
  },
  {
   "cell_type": "code",
   "execution_count": 19,
   "outputs": [],
   "source": [
    "# Lembando que quando criamos o objeto cachorro  não  adicionamos a idade e o sexo. \n",
    "# Vamos agora criar um objeto chamado gato utilizando todas as possibilidades fornecidas pelo consrutor da classe."
   ],
   "metadata": {
    "collapsed": false,
    "pycharm": {
     "name": "#%%\n",
     "is_executing": false
    }
   }
  },
  {
   "cell_type": "code",
   "execution_count": 20,
   "outputs": [],
   "source": [
    "gato = Animal(\"Felino\", \"Felix\",6,\"M\")"
   ],
   "metadata": {
    "collapsed": false,
    "pycharm": {
     "name": "#%%\n",
     "is_executing": false
    }
   }
  },
  {
   "cell_type": "code",
   "execution_count": 21,
   "outputs": [
    {
     "data": {
      "text/plain": "__main__.Animal"
     },
     "metadata": {},
     "output_type": "execute_result",
     "execution_count": 21
    }
   ],
   "source": [
    "type(gato)"
   ],
   "metadata": {
    "collapsed": false,
    "pycharm": {
     "name": "#%%\n",
     "is_executing": false
    }
   }
  },
  {
   "cell_type": "code",
   "execution_count": 22,
   "outputs": [
    {
     "data": {
      "text/plain": "6"
     },
     "metadata": {},
     "output_type": "execute_result",
     "execution_count": 22
    }
   ],
   "source": [
    "gato.idade"
   ],
   "metadata": {
    "collapsed": false,
    "pycharm": {
     "name": "#%%\n",
     "is_executing": false
    }
   }
  },
  {
   "cell_type": "code",
   "execution_count": 23,
   "outputs": [
    {
     "data": {
      "text/plain": "'Felix'"
     },
     "metadata": {},
     "output_type": "execute_result",
     "execution_count": 23
    }
   ],
   "source": [
    "gato.nome"
   ],
   "metadata": {
    "collapsed": false,
    "pycharm": {
     "name": "#%%\n",
     "is_executing": false
    }
   }
  },
  {
   "cell_type": "code",
   "execution_count": 24,
   "outputs": [
    {
     "data": {
      "text/plain": "'M'"
     },
     "metadata": {},
     "output_type": "execute_result",
     "execution_count": 24
    }
   ],
   "source": [
    "gato.sexo"
   ],
   "metadata": {
    "collapsed": false,
    "pycharm": {
     "name": "#%%\n",
     "is_executing": false
    }
   }
  },
  {
   "cell_type": "code",
   "execution_count": 25,
   "outputs": [],
   "source": [
    "# Agora vamos pedir para o objeto \"gato\" executar o método \"comer.\n",
    "# Métodos, diferentes dos tributos, são smepre chamados abrindo e fechando parênteses.\n"
   ],
   "metadata": {
    "collapsed": false,
    "pycharm": {
     "name": "#%%\n",
     "is_executing": false
    }
   }
  },
  {
   "cell_type": "code",
   "execution_count": 26,
   "outputs": [
    {
     "name": "stdout",
     "text": [
      "O Felino  chamado  Felix  está comendo! \n"
     ],
     "output_type": "stream"
    }
   ],
   "source": [
    "gato.comer()"
   ],
   "metadata": {
    "collapsed": false,
    "pycharm": {
     "name": "#%%\n",
     "is_executing": false
    }
   }
  },
  {
   "cell_type": "code",
   "execution_count": 27,
   "outputs": [],
   "source": [
    "# Assim o objeto garo é uma instância da classe Animal. \n",
    "# Portanto, o gato, uma vez instanciado, passa a ter os mesmos atributos e métodos da classe animal.\n",
    "# Veja outra maneira de instanciar um objeto atribuindo um valor específico para o construtor"
   ],
   "metadata": {
    "collapsed": false,
    "pycharm": {
     "name": "#%%\n",
     "is_executing": false
    }
   }
  },
  {
   "cell_type": "code",
   "execution_count": 28,
   "outputs": [],
   "source": [
    "girafa = Animal(tipo = \"Girafa\", idade = \"30\")"
   ],
   "metadata": {
    "collapsed": false,
    "pycharm": {
     "name": "#%%\n",
     "is_executing": false
    }
   }
  },
  {
   "cell_type": "code",
   "execution_count": 29,
   "outputs": [
    {
     "name": "stdout",
     "text": [
      "O Girafa  chamado  None  está comendo! \n"
     ],
     "output_type": "stream"
    }
   ],
   "source": [
    "girafa.comer()"
   ],
   "metadata": {
    "collapsed": false,
    "pycharm": {
     "name": "#%%\n",
     "is_executing": false
    }
   }
  },
  {
   "cell_type": "markdown",
   "source": [
    "# Em Python tudo é um objeto"
   ],
   "metadata": {
    "collapsed": false,
    "pycharm": {
     "name": "#%% md\n",
     "is_executing": false
    }
   }
  },
  {
   "cell_type": "code",
   "execution_count": 31,
   "outputs": [],
   "source": [
    "#  Agora que já temos uma idéia do que são classes e objetos vamos fazer um estudo curioso e comprovar que \n",
    "#  tudo em Python é um objeto. Vamos pedir para o Python retornar os tipos das estruturas formadas com (), {}, [], \n",
    "#  por exemplo."
   ],
   "metadata": {
    "collapsed": false,
    "pycharm": {
     "name": "#%%\n",
     "is_executing": false
    }
   }
  },
  {
   "cell_type": "code",
   "execution_count": 32,
   "outputs": [
    {
     "name": "stdout",
     "text": [
      "<class 'list'>\n"
     ],
     "output_type": "stream"
    }
   ],
   "source": [
    "# colchets definem listas\n",
    "print(type([]))"
   ],
   "metadata": {
    "collapsed": false,
    "pycharm": {
     "name": "#%%\n",
     "is_executing": false
    }
   }
  },
  {
   "cell_type": "code",
   "execution_count": 33,
   "outputs": [
    {
     "name": "stdout",
     "text": [
      "<class 'dict'>\n"
     ],
     "output_type": "stream"
    }
   ],
   "source": [
    "# chaves definem dicionários\n",
    "print(type({}))"
   ],
   "metadata": {
    "collapsed": false,
    "pycharm": {
     "name": "#%%\n",
     "is_executing": false
    }
   }
  },
  {
   "cell_type": "code",
   "execution_count": 34,
   "outputs": [
    {
     "name": "stdout",
     "text": [
      "<class 'tuple'>\n"
     ],
     "output_type": "stream"
    }
   ],
   "source": [
    "# parênteses definem tuplas\n",
    "print(type(()))"
   ],
   "metadata": {
    "collapsed": false,
    "pycharm": {
     "name": "#%%\n",
     "is_executing": false
    }
   }
  },
  {
   "cell_type": "code",
   "execution_count": 35,
   "outputs": [],
   "source": [
    "# Agora sabemos como construir nossas próprias classes."
   ],
   "metadata": {
    "collapsed": false,
    "pycharm": {
     "name": "#%%\n",
     "is_executing": false
    }
   }
  },
  {
   "cell_type": "markdown",
   "source": [
    "# Herança em python"
   ],
   "metadata": {
    "collapsed": false,
    "pycharm": {
     "name": "#%% md\n",
     "is_executing": false
    }
   }
  },
  {
   "cell_type": "code",
   "execution_count": 36,
   "outputs": [],
   "source": [
    "# De modo resumido, herança é uma maneira de gerar novas classes utilizando outras classes ( classe pai) previamente \n",
    "# definidas. A herança ocorre quando uma classe (filha) herda características e métodos de uma outra classe (pai), mas\n",
    "# não impede que a classe filha possua seus próprios métodos e atributos. \n",
    "# A principal vantagem aqui é pode reutilizar o código reduzindo assim a complexidade.\n"
   ],
   "metadata": {
    "collapsed": false,
    "pycharm": {
     "name": "#%%\n",
     "is_executing": false
    }
   }
  },
  {
   "cell_type": "code",
   "execution_count": 37,
   "outputs": [],
   "source": [
    "# Vamos criar a classe Pessoa depois utilizar a herança para criar particularidades como PessoaFisica e PessoaJuridica. "
   ],
   "metadata": {
    "collapsed": false,
    "pycharm": {
     "name": "#%%\n",
     "is_executing": false
    }
   }
  },
  {
   "cell_type": "code",
   "execution_count": 38,
   "outputs": [],
   "source": [
    "# Criando uma classe \n",
    "class Pessoa:\n",
    "    def __init__(self, nome, idade):\n",
    "        self.nome = nome\n",
    "        self.idade =idade\n",
    "        \n",
    "    # Encapsulamento de métodos para setar e obter nomes e idades\n",
    "    def setNome(self, nome):\n",
    "        self.nome = nome\n",
    "        \n",
    "    def setIdade(self, idade):\n",
    "        self.idade = idade\n",
    "        \n",
    "    def getNome(self):\n",
    "        return self.nome\n",
    "    \n",
    "    def getIdade(self):\n",
    "        return self.idade"
   ],
   "metadata": {
    "collapsed": false,
    "pycharm": {
     "name": "#%%\n",
     "is_executing": false
    }
   }
  },
  {
   "cell_type": "code",
   "execution_count": 39,
   "outputs": [],
   "source": [
    "# Vamos agora instanciar uma pessoa:"
   ],
   "metadata": {
    "collapsed": false,
    "pycharm": {
     "name": "#%%\n",
     "is_executing": false
    }
   }
  },
  {
   "cell_type": "code",
   "execution_count": 40,
   "outputs": [],
   "source": [
    "p1 = Pessoa(\"Paulo\",21)"
   ],
   "metadata": {
    "collapsed": false,
    "pycharm": {
     "name": "#%%\n",
     "is_executing": false
    }
   }
  },
  {
   "cell_type": "code",
   "execution_count": 41,
   "outputs": [
    {
     "data": {
      "text/plain": "'Paulo'"
     },
     "metadata": {},
     "output_type": "execute_result",
     "execution_count": 41
    }
   ],
   "source": [
    "p1.getNome()\n"
   ],
   "metadata": {
    "collapsed": false,
    "pycharm": {
     "name": "#%%\n",
     "is_executing": false
    }
   }
  },
  {
   "cell_type": "code",
   "execution_count": 42,
   "outputs": [
    {
     "data": {
      "text/plain": "21"
     },
     "metadata": {},
     "output_type": "execute_result",
     "execution_count": 42
    }
   ],
   "source": [
    "p1.getIdade()"
   ],
   "metadata": {
    "collapsed": false,
    "pycharm": {
     "name": "#%%\n",
     "is_executing": false
    }
   }
  },
  {
   "cell_type": "code",
   "execution_count": 43,
   "outputs": [],
   "source": [
    "# Os métodos 'getNome', 'getIdade', 'setNome', 'setIdade' servem para encapsular a manipulação de variáveis\n",
    "# dentro dos objetos. \n",
    "# Podemos a partir desses métodos criar critérios específicos para a modelagem dos nossos problemas."
   ],
   "metadata": {
    "collapsed": false,
    "pycharm": {
     "name": "#%%\n",
     "is_executing": false
    }
   }
  },
  {
   "cell_type": "code",
   "execution_count": 44,
   "outputs": [],
   "source": [
    "# Vamos criar agora  a classe 'PessoaFisica' que herda as características da classe Pessoa. \n",
    "# Estamos fazendo isso para não precisarmos reescrever características da classe pai 'Pessoa' \n",
    "# na classe filho 'PessoaFisica'\n",
    "\n",
    "# Veja a abaixo como se dá esse processo de herança em Python."
   ],
   "metadata": {
    "collapsed": false,
    "pycharm": {
     "name": "#%%\n",
     "is_executing": false
    }
   }
  },
  {
   "cell_type": "code",
   "execution_count": 1,
   "outputs": [
    {
     "traceback": [
      "\u001b[1;31m---------------------------------------------------------------------------\u001b[0m",
      "\u001b[1;31mNameError\u001b[0m                                 Traceback (most recent call last)",
      "\u001b[1;32m<ipython-input-1-6fcda996f26e>\u001b[0m in \u001b[0;36m<module>\u001b[1;34m\u001b[0m\n\u001b[0;32m      1\u001b[0m \u001b[1;31m# Classe PessoaFísica herda da classe Pessoa\u001b[0m\u001b[1;33m\u001b[0m\u001b[1;33m\u001b[0m\u001b[1;33m\u001b[0m\u001b[0m\n\u001b[1;32m----> 2\u001b[1;33m \u001b[1;32mclass\u001b[0m \u001b[0mPessoaFisica\u001b[0m\u001b[1;33m(\u001b[0m\u001b[0mPessoa\u001b[0m\u001b[1;33m)\u001b[0m\u001b[1;33m:\u001b[0m\u001b[1;33m\u001b[0m\u001b[1;33m\u001b[0m\u001b[0m\n\u001b[0m\u001b[0;32m      3\u001b[0m     \u001b[1;31m# Construtor para classe pessoa fisica\u001b[0m\u001b[1;33m\u001b[0m\u001b[1;33m\u001b[0m\u001b[1;33m\u001b[0m\u001b[0m\n\u001b[0;32m      4\u001b[0m     \u001b[1;32mdef\u001b[0m \u001b[0m__init__\u001b[0m\u001b[1;33m(\u001b[0m\u001b[0mself\u001b[0m\u001b[1;33m,\u001b[0m \u001b[0mCPF\u001b[0m\u001b[1;33m,\u001b[0m \u001b[0mnome\u001b[0m\u001b[1;33m,\u001b[0m \u001b[0midade\u001b[0m\u001b[1;33m)\u001b[0m\u001b[1;33m:\u001b[0m\u001b[1;33m\u001b[0m\u001b[1;33m\u001b[0m\u001b[0m\n\u001b[0;32m      5\u001b[0m         \u001b[1;31m# importa característica da classe Pessoa\u001b[0m\u001b[1;33m\u001b[0m\u001b[1;33m\u001b[0m\u001b[1;33m\u001b[0m\u001b[0m\n",
      "\u001b[1;31mNameError\u001b[0m: name 'Pessoa' is not defined"
     ],
     "ename": "NameError",
     "evalue": "name 'Pessoa' is not defined",
     "output_type": "error"
    }
   ],
   "source": [
    "# Classe PessoaFísica herda da classe Pessoa\n",
    "class PessoaFisica(Pessoa):\n",
    "    # Construtor para classe pessoa fisica\n",
    "    def __init__(self, CPF, nome, idade):\n",
    "        # importa característica da classe Pessoa\n",
    "        super().__init__(nome,idade)\n",
    "        self.CPF = CPF\n",
    "        \n",
    "    # pessoas fisicas possuem cpf\n",
    "    def setCPF(self, CPF):\n",
    "        self.CPF = CPF\n",
    "        \n",
    "    def getCPF(self):\n",
    "        return self.CPF"
   ],
   "metadata": {
    "collapsed": false,
    "pycharm": {
     "name": "#%%\n",
     "is_executing": false
    }
   }
  },
  {
   "cell_type": "code",
   "execution_count": 1,
   "outputs": [],
   "source": [
    "# O método \"super()\" faz a coleta dos atributos da super-classe( classe pai) que no nosso caso é a classe pessoa.\n",
    "# Com isso, utilizamos o \"super().__init__(nome,idade)\" para criar um construtor com parâmetros da classe pais.\n",
    "\n",
    "# Note que temos para a clases \"PessoaFisica\" os mesmos métodos da classe \"Pessoa\" tem atributos e métodos comuns \n",
    "# para \"PessoaFísica\" e \"PessoaJuridica\"."
   ],
   "metadata": {
    "collapsed": false,
    "pycharm": {
     "name": "#%%\n",
     "is_executing": false
    }
   }
  },
  {
   "cell_type": "markdown",
   "source": [
    "# Métodos especiasi em Python"
   ],
   "metadata": {
    "collapsed": false,
    "pycharm": {
     "name": "#%% md\n",
     "is_executing": false
    }
   }
  },
  {
   "cell_type": "code",
   "execution_count": 5,
   "outputs": [],
   "source": [
    " \n",
    " # Até o presente momento fizemosn uso de apenas um método especial em Python que foi o __init__. \n",
    "# No entanto, o Python apresenta um grande número desses metodos que nos permitem executar ações específicas.\n",
    "# Veja abaixo alguns dos principais métodos especiais em Python.\n"
   ],
   "metadata": {
    "collapsed": false,
    "pycharm": {
     "name": "#%%\n",
     "is_executing": false
    }
   }
  },
  {
   "cell_type": "code",
   "execution_count": 6,
   "outputs": [
    {
     "traceback": [
      "\u001b[1;36m  File \u001b[1;32m\"<ipython-input-6-cf53bc8e469c>\"\u001b[1;36m, line \u001b[1;32m1\u001b[0m\n\u001b[1;33m    __abs__     __delattr__     __getattribute__        __index__\u001b[0m\n\u001b[1;37m                          ^\u001b[0m\n\u001b[1;31mSyntaxError\u001b[0m\u001b[1;31m:\u001b[0m invalid syntax\n"
     ],
     "ename": "SyntaxError",
     "evalue": "invalid syntax (<ipython-input-6-cf53bc8e469c>, line 1)",
     "output_type": "error"
    }
   ],
   "source": [
    "'''\n",
    "__abs__     __delattr__     __getattribute__        __index__\n",
    "__add__     __delete__      __getittem__  e etc... \n",
    "'''"
   ],
   "metadata": {
    "collapsed": false,
    "pycharm": {
     "name": "#%%\n",
     "is_executing": false
    }
   }
  },
  {
   "cell_type": "code",
   "execution_count": 7,
   "outputs": [],
   "source": [
    "# Note que identificamos um método especial pelos dois underscores(__) antes e após seu nome. \n",
    "# Vale lembrarque underline é diferente de underscore. \"Underline\" significa um sublinhado. \n",
    "# Por outro lado, o  \"Underscore\" é traço inferior utilizado para separa palavras por exemplo. \n",
    "\n"
   ],
   "metadata": {
    "collapsed": false,
    "pycharm": {
     "name": "#%%\n",
     "is_executing": false
    }
   }
  },
  {
   "cell_type": "code",
   "execution_count": 2,
   "outputs": [],
   "source": [
    "# Criar classe\n",
    "class Filme():\n",
    "    def __init__(self, titulo, diretor, duracao):\n",
    "        print(\"Filme criado\")\n",
    "        self.titulo = titulo\n",
    "        self.diretor = diretor\n",
    "        self.duracao = duracao\n",
    "        \n",
    "    def __str__(self):\n",
    "        # usamos a contra barra '\\' para continuar o comando na proxima linha!\n",
    "        return \"Filme %s, Diretor: %s, Duração (min): %s\"\\\n",
    "               %(self.titulo, self.diretor, self.duracao)\n",
    "    \n",
    "    def __len__(self): # este é um método especial modificado\n",
    "        return  self.duracao\n",
    "    \n",
    "    def len(self): # este nós estamos criando\n",
    "        return print(\"Duração do filme em minutos: \", self.duracao)"
   ],
   "metadata": {
    "collapsed": false,
    "pycharm": {
     "name": "#%%\n",
     "is_executing": false
    }
   }
  },
  {
   "cell_type": "code",
   "execution_count": 3,
   "outputs": [
    {
     "name": "stdout",
     "text": [
      "Filme criado\n"
     ],
     "output_type": "stream"
    }
   ],
   "source": [
    "filme1 = Filme(\"Sétimo selo\", \"Ingmar Bergman\", 96)"
   ],
   "metadata": {
    "collapsed": false,
    "pycharm": {
     "name": "#%%\n",
     "is_executing": false
    }
   }
  },
  {
   "cell_type": "code",
   "execution_count": 4,
   "outputs": [
    {
     "name": "stdout",
     "text": [
      "Filme Sétimo selo, Diretor: Ingmar Bergman, Duração (min): 96\n"
     ],
     "output_type": "stream"
    }
   ],
   "source": [
    "# Por causa di método \"__str__\" iremos ter uma resposta de texto:\n",
    "print(filme1)"
   ],
   "metadata": {
    "collapsed": false,
    "pycharm": {
     "name": "#%%\n",
     "is_executing": false
    }
   }
  },
  {
   "cell_type": "code",
   "execution_count": 6,
   "outputs": [
    {
     "data": {
      "text/plain": "'Filme Sétimo selo, Diretor: Ingmar Bergman, Duração (min): 96'"
     },
     "metadata": {},
     "output_type": "execute_result",
     "execution_count": 6
    }
   ],
   "source": [
    "# Chamar a função especial\n",
    "str(filme1)"
   ],
   "metadata": {
    "collapsed": false,
    "pycharm": {
     "name": "#%%\n",
     "is_executing": false
    }
   }
  },
  {
   "cell_type": "code",
   "execution_count": 7,
   "outputs": [
    {
     "data": {
      "text/plain": "96"
     },
     "metadata": {},
     "output_type": "execute_result",
     "execution_count": 7
    }
   ],
   "source": [
    "# Usar o método especial modificado por nós:\n",
    "len(filme1)"
   ],
   "metadata": {
    "collapsed": false,
    "pycharm": {
     "name": "#%%\n",
     "is_executing": false
    }
   }
  },
  {
   "cell_type": "code",
   "execution_count": 8,
   "outputs": [
    {
     "data": {
      "text/plain": "96"
     },
     "metadata": {},
     "output_type": "execute_result",
     "execution_count": 8
    }
   ],
   "source": [
    "# Usar o método len() criado por nós\n",
    "len(filme1)"
   ],
   "metadata": {
    "collapsed": false,
    "pycharm": {
     "name": "#%%\n",
     "is_executing": false
    }
   }
  },
  {
   "cell_type": "code",
   "execution_count": 9,
   "outputs": [
    {
     "name": "stdout",
     "text": [
      "Duração do filme em minutos:  96\n"
     ],
     "output_type": "stream"
    }
   ],
   "source": [
    "filme1.len()"
   ],
   "metadata": {
    "collapsed": false,
    "pycharm": {
     "name": "#%%\n",
     "is_executing": false
    }
   }
  },
  {
   "cell_type": "code",
   "execution_count": null,
   "outputs": [],
   "source": [
    "# Vale ressaltar que vimos apenas o básico introdutório desse campo tão vasto e importante.\n",
    "# Para que você possa se aprofundar e utilizar com mais confiança a POO certamente precisará  de leitura de \n",
    "# materiais avançados. Para isso é extremamente aconselhável a leitura do excelente e completo livro: Python Fluente.\n"
   ],
   "metadata": {
    "collapsed": false,
    "pycharm": {
     "name": "#%%\n"
    }
   }
  }
 ],
 "metadata": {
  "kernelspec": {
   "display_name": "Python 3",
   "language": "python",
   "name": "python3"
  },
  "language_info": {
   "codemirror_mode": {
    "name": "ipython",
    "version": 2
   },
   "file_extension": ".py",
   "mimetype": "text/x-python",
   "name": "python",
   "nbconvert_exporter": "python",
   "pygments_lexer": "ipython2",
   "version": "2.7.6"
  },
  "pycharm": {
   "stem_cell": {
    "cell_type": "raw",
    "source": [],
    "metadata": {
     "collapsed": false
    }
   }
  }
 },
 "nbformat": 4,
 "nbformat_minor": 0
}