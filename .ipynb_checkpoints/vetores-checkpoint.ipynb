{
  "cells": [
    {
      "metadata": {
        "trusted": true
      },
      "cell_type": "code",
      "source": "# Os vetores (array) e matrizes, em termos matemáticos, \n# precisam conter elementos de um único tipo, \n# que no nosso caso será o tipo numérico. ",
      "execution_count": 1,
      "outputs": []
    },
    {
      "metadata": {
        "trusted": true
      },
      "cell_type": "code",
      "source": "import numpy as np",
      "execution_count": 2,
      "outputs": []
    },
    {
      "metadata": {
        "trusted": true
      },
      "cell_type": "code",
      "source": "# criar um vetor\nvet1 = np.array([1,2,3,4])",
      "execution_count": 3,
      "outputs": []
    },
    {
      "metadata": {
        "trusted": true
      },
      "cell_type": "code",
      "source": "type(vet1)",
      "execution_count": 4,
      "outputs": [
        {
          "output_type": "execute_result",
          "execution_count": 4,
          "data": {
            "text/plain": "numpy.ndarray"
          },
          "metadata": {}
        }
      ]
    },
    {
      "metadata": {
        "trusted": true
      },
      "cell_type": "code",
      "source": "# Perceba que o tipo da variável vet1 é um ‘numpy.ndarray’ \n# que representa um vetor de maneira geral.\n# Os elementos do vetor são todos apenas do tipo numérico \n# (int, float ou double).",
      "execution_count": 5,
      "outputs": []
    },
    {
      "metadata": {
        "trusted": true
      },
      "cell_type": "code",
      "source": "# tentando adicionar str '4'\nvet2 = np.array([1,2,3,'4']) ",
      "execution_count": 9,
      "outputs": []
    },
    {
      "metadata": {
        "trusted": true
      },
      "cell_type": "code",
      "source": "# matrizes só podem conter um tipo específico de \n# elemento e por isso o interpretador Python decidiu \n# transformar todos os elementos do vetor em uma \n# string para manter a consistência de um vetor.\n# A pergunta que não quer calar é: por que o Python não \n# transformou a string ‘4’ em um número? \n# Veja o exemplo abaixo que vai esclarecer esse questionamento:",
      "execution_count": null,
      "outputs": []
    },
    {
      "metadata": {
        "trusted": true
      },
      "cell_type": "code",
      "source": "vet2",
      "execution_count": 12,
      "outputs": [
        {
          "output_type": "execute_result",
          "execution_count": 12,
          "data": {
            "text/plain": "array(['1', '2', '3', '4'], dtype='<U21')"
          },
          "metadata": {}
        }
      ]
    },
    {
      "metadata": {
        "trusted": true
      },
      "cell_type": "code",
      "source": "vet3  =np.array([7,8,'a'])",
      "execution_count": 16,
      "outputs": []
    },
    {
      "metadata": {
        "trusted": true
      },
      "cell_type": "code",
      "source": "vet3",
      "execution_count": 18,
      "outputs": [
        {
          "output_type": "execute_result",
          "execution_count": 18,
          "data": {
            "text/plain": "array(['7', '8', 'a'], dtype='<U21')"
          },
          "metadata": {}
        }
      ]
    },
    {
      "metadata": {
        "trusted": true
      },
      "cell_type": "code",
      "source": "type(vet3[0])",
      "execution_count": 19,
      "outputs": [
        {
          "output_type": "execute_result",
          "execution_count": 19,
          "data": {
            "text/plain": "numpy.str_"
          },
          "metadata": {}
        }
      ]
    },
    {
      "metadata": {
        "trusted": true
      },
      "cell_type": "code",
      "source": "# Perceba que colocamos a string ‘a’ dentro do vetor \n# de números, portanto o Python, como esperado para \n# manter a consistência, transformou tudo em string.\n# Note que não seria possível transformar a string ‘a’ \n# em um número, por isso o Python faz a transformação de todos\n# os elementos para o caso mais geral que nessa situação é uma strig\n\n ",
      "execution_count": 20,
      "outputs": []
    }
  ],
  "metadata": {
    "kernelspec": {
      "name": "python36",
      "display_name": "Python 3.6",
      "language": "python"
    },
    "language_info": {
      "mimetype": "text/x-python",
      "nbconvert_exporter": "python",
      "name": "python",
      "pygments_lexer": "ipython3",
      "version": "3.6.6",
      "file_extension": ".py",
      "codemirror_mode": {
        "version": 3,
        "name": "ipython"
      }
    }
  },
  "nbformat": 4,
  "nbformat_minor": 2
}