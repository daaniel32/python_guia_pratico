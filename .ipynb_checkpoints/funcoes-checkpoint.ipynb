{
  "cells": [
    {
      "metadata": {
        "trusted": true
      },
      "cell_type": "code",
      "source": "def soma(a,b):\n    return a+b\n\ndef subtrai(a,b):\n    return a-b\n\ndef multiplicar(a,b):\n    return a*b\n\ndef dividir(a,b):\n    if b != 0:\n        return a/b\n    else:\n        return 'Erro: divisão por zero'\n",
      "execution_count": 1,
      "outputs": []
    },
    {
      "metadata": {
        "trusted": true
      },
      "cell_type": "code",
      "source": "x = 10\ny = 20\nprint('Soma de  x com y:', soma(x,y))\nprint('Subtração de x com y:', subtrai(x,y))\nprint('Multiplicação de x com y:', multiplicar(x,y))\nprint('Divisão de x com y:', dividir(x,y))",
      "execution_count": 2,
      "outputs": [
        {
          "output_type": "stream",
          "text": "Soma de  x com y: 30\nSubtração de x com y: -10\nMultiplicação de x com y: 200\nDivisão de x com y: 0.5\n",
          "name": "stdout"
        }
      ]
    },
    {
      "metadata": {
        "trusted": true
      },
      "cell_type": "code",
      "source": "def ola_mundo():\n    print('olá mundo')",
      "execution_count": 3,
      "outputs": []
    },
    {
      "metadata": {
        "trusted": true
      },
      "cell_type": "code",
      "source": "ola_mundo() # função sem parâmetro de entrada e retorno",
      "execution_count": 4,
      "outputs": [
        {
          "output_type": "stream",
          "text": "olá mundo\n",
          "name": "stdout"
        }
      ]
    },
    {
      "metadata": {
        "trusted": true
      },
      "cell_type": "markdown",
      "source": "# Variaveis locais e globais #"
    },
    {
      "metadata": {
        "trusted": true
      },
      "cell_type": "code",
      "source": "# Cuidado pois variáveis locais declaradas dentro das funções apresentam o escopo local\n# enquanto variáveis no corpo do nosso código, fora das funções, possuem escopo global.",
      "execution_count": 6,
      "outputs": []
    },
    {
      "metadata": {
        "trusted": true
      },
      "cell_type": "code",
      "source": "# Variável global\nvar_resp = 7\n\ndef soma_dois_numeros(a,b):\n    # var_resp = variável local\n    # serve apenas para o contexto da função\n    var_resp = a + b\n    return(var_resp)",
      "execution_count": 7,
      "outputs": []
    },
    {
      "metadata": {
        "trusted": true
      },
      "cell_type": "code",
      "source": "soma_dois_numeros(3,20)",
      "execution_count": 8,
      "outputs": [
        {
          "output_type": "execute_result",
          "execution_count": 8,
          "data": {
            "text/plain": "23"
          },
          "metadata": {}
        }
      ]
    },
    {
      "metadata": {
        "trusted": true
      },
      "cell_type": "code",
      "source": "# Mostra a var_resp\nprint(var_resp)",
      "execution_count": 9,
      "outputs": [
        {
          "output_type": "stream",
          "text": "7\n",
          "name": "stdout"
        }
      ]
    },
    {
      "metadata": {
        "trusted": true
      },
      "cell_type": "code",
      "source": "# Atençao não é uma boa prática utilizar o mesmo nome para variáveis locais e globais, \n# pois podemos nos confundir na utilização destas variáveis.\n# Este tipo de cuidado certamente evitará diversos erros de compilação, inclusive erros \n# que muitas vezes são difíceis de serem encontrados",
      "execution_count": 10,
      "outputs": []
    },
    {
      "metadata": {
        "trusted": true
      },
      "cell_type": "code",
      "source": "# variáveis global\nvar_resp = 7\n\ndef soma_dois_numeros(a,b):\n    # var_resp = variável local\n    # serve apenas para o contexto da função\n    var_resp_loc = a + b\n    return",
      "execution_count": 11,
      "outputs": []
    },
    {
      "metadata": {
        "trusted": true
      },
      "cell_type": "code",
      "source": "# Mostra a variável local: var_resp_loc\nprint(var_resp_loc)",
      "execution_count": 12,
      "outputs": [
        {
          "output_type": "error",
          "ename": "NameError",
          "evalue": "name 'var_resp_loc' is not defined",
          "traceback": [
            "\u001b[0;31m---------------------------------------------------------------------------\u001b[0m",
            "\u001b[0;31mNameError\u001b[0m                                 Traceback (most recent call last)",
            "\u001b[0;32m<ipython-input-12-cfbf30a099fb>\u001b[0m in \u001b[0;36m<module>\u001b[0;34m\u001b[0m\n\u001b[1;32m      1\u001b[0m \u001b[0;31m# Mostra a variável local: var_resp_loc\u001b[0m\u001b[0;34m\u001b[0m\u001b[0;34m\u001b[0m\u001b[0m\n\u001b[0;32m----> 2\u001b[0;31m \u001b[0mprint\u001b[0m\u001b[0;34m(\u001b[0m\u001b[0mvar_resp_loc\u001b[0m\u001b[0;34m)\u001b[0m\u001b[0;34m\u001b[0m\u001b[0m\n\u001b[0m",
            "\u001b[0;31mNameError\u001b[0m: name 'var_resp_loc' is not defined"
          ]
        }
      ]
    },
    {
      "metadata": {
        "trusted": true
      },
      "cell_type": "code",
      "source": "# Funções uteis no python\n\n# Funções built-in\n\n# str() -> transforma valores numéricos em string.\n# int() -> transforma varáveis(string/numéricas) em inteiros.\n# float() -> transforma variáveis(string/numéricas) em decimais (ponto flutuante).\n# max() -> encontra o máximo valor de um conjunto de dadaos\n# min() -> encontra o valor mínimio de um conjunto de dados.\n# len() -> retorna o comprimento de uma lista, tupla, diciomário, vetor, matriz etc.\n# sum() -> soma todos os elementos de uma lista",
      "execution_count": 13,
      "outputs": []
    },
    {
      "metadata": {
        "trusted": true
      },
      "cell_type": "code",
      "source": "# Variável\nnota = input('Digite a sua nota: ')\n\nif nota > 7:\n    print('Aluno aprovado com a nota = ', nota)\nelse:\n    print('Aluno reprovado com nota = ', nota)",
      "execution_count": null,
      "outputs": []
    },
    {
      "metadata": {
        "trusted": true
      },
      "cell_type": "code",
      "source": "# o programa  acima avalia se uma string é maior que 7.\n# Protanto, precisamos transformar essa string(nota) em um tipo 'int' ou 'float'\n# Veja como fica o código abaixo",
      "execution_count": null,
      "outputs": []
    },
    {
      "metadata": {
        "trusted": true
      },
      "cell_type": "code",
      "source": "# Variável \nnota = input('Digite a sua nota: ')\n\nif float(nota) > 7:\n    print('Aluno aprovado com a nota = ', nota)\nelse:\n    print('Aluno reprovado com nota = ', nota)",
      "execution_count": null,
      "outputs": []
    },
    {
      "metadata": {
        "trusted": true
      },
      "cell_type": "code",
      "source": "# Veja abaixo o uso das outras funções built-in",
      "execution_count": null,
      "outputs": []
    },
    {
      "metadata": {
        "trusted": true
      },
      "cell_type": "code",
      "source": "list_num = [1, 3.14, '7', 1.618, '99', 8, 33, 77]",
      "execution_count": null,
      "outputs": []
    },
    {
      "metadata": {
        "trusted": true
      },
      "cell_type": "code",
      "source": "list_num",
      "execution_count": null,
      "outputs": []
    },
    {
      "metadata": {
        "trusted": true
      },
      "cell_type": "code",
      "source": "# Tamanho da lista\nlen(list_num)",
      "execution_count": null,
      "outputs": []
    },
    {
      "metadata": {
        "trusted": true
      },
      "cell_type": "code",
      "source": "# Dentro da lista 'list_num' temos valores inteiros, floats e strings\n# Se tentarmos encontrar o valor máximo( max() ) e mínimo( min() ),\n# dentro dessa lista iremos ter a seguinte mensagem de erro:",
      "execution_count": null,
      "outputs": []
    },
    {
      "metadata": {
        "trusted": true
      },
      "cell_type": "code",
      "source": "# Máximo valor da lista\nmax(list_num)",
      "execution_count": null,
      "outputs": []
    },
    {
      "metadata": {
        "trusted": true
      },
      "cell_type": "code",
      "source": "# Por isso devemos primeiro garantir que todos os elementos da lista possuam valores numéricos, sem string\n# Veja um exemplo abaixo como converter todos os elementos da lista (list_num) em números inteiros.",
      "execution_count": null,
      "outputs": []
    },
    {
      "metadata": {
        "trusted": true
      },
      "cell_type": "code",
      "source": "# Variável para adicionar lista de ineteiros\nlist_int = []\n\nfor i in list_num:\n    list_int.append(int(i))\nlist_int",
      "execution_count": null,
      "outputs": []
    },
    {
      "metadata": {
        "trusted": true
      },
      "cell_type": "code",
      "source": "# Variável para adicionar lista de floats\nlist_float = []\n\nfor i in list_num:\n    list_float.append(float(i))\n    \nlist_float",
      "execution_count": null,
      "outputs": []
    },
    {
      "metadata": {
        "trusted": true
      },
      "cell_type": "code",
      "source": "# transformando em string\nlist_string = []\nfor i in list_num:\n    list_string.append(str(i))\n    \nlist_string",
      "execution_count": null,
      "outputs": []
    },
    {
      "metadata": {
        "trusted": true
      },
      "cell_type": "code",
      "source": "# Agora podemos encontrar os valores máximos e mínimos dentro das listas: 'list_int' ou 'list_float', \n# pois todos os elementos são do mesmo tipo.",
      "execution_count": null,
      "outputs": []
    },
    {
      "metadata": {
        "trusted": true
      },
      "cell_type": "code",
      "source": "# Valor máximo\nmax(list_float)",
      "execution_count": null,
      "outputs": []
    },
    {
      "metadata": {
        "trusted": true
      },
      "cell_type": "code",
      "source": "# valor mínimo\nmin(list_float)",
      "execution_count": null,
      "outputs": []
    },
    {
      "metadata": {
        "trusted": true
      },
      "cell_type": "code",
      "source": "# Soma de todos os valores da lista\nsum(list_float)",
      "execution_count": null,
      "outputs": []
    },
    {
      "metadata": {
        "trusted": true
      },
      "cell_type": "code",
      "source": "# FUNÇÕES COM PARÂMETROS INDETERMINADOS",
      "execution_count": null,
      "outputs": []
    },
    {
      "metadata": {
        "trusted": true
      },
      "cell_type": "code",
      "source": "# caso seja preciso criar uma função na qual não sabemos bem ao certo a quantidade de parâmetros\n# de entrada, podemos utilizar o número de argumentos indeterminados com o uso de um *(asterístico).\n# Veja abaixo desse tipo de uso",
      "execution_count": null,
      "outputs": []
    },
    {
      "metadata": {
        "trusted": true
      },
      "cell_type": "code",
      "source": "# Função com argumentos indetermindos\ndef soma_valores(*valores):\n    soma = 0\n    for i in valores:\n        soma = soma + i\n    return(soma)",
      "execution_count": null,
      "outputs": []
    },
    {
      "metadata": {
        "trusted": true
      },
      "cell_type": "code",
      "source": "soma_valores(1,2)",
      "execution_count": null,
      "outputs": []
    },
    {
      "metadata": {
        "trusted": true
      },
      "cell_type": "code",
      "source": "soma_valores(1,2,3,4)",
      "execution_count": null,
      "outputs": []
    },
    {
      "metadata": {
        "trusted": true
      },
      "cell_type": "code",
      "source": "soma_valores(10,20,30,40,50,60,70,80,90,100)",
      "execution_count": null,
      "outputs": []
    },
    {
      "metadata": {
        "trusted": true
      },
      "cell_type": "markdown",
      "source": "# Tópico especial: Funções Lambda #"
    },
    {
      "metadata": {
        "trusted": true
      },
      "cell_type": "code",
      "source": "# As funções lambdas são tmabém conhecidas como funções inline ou funções anônimas. \n# O principa benefício das funções lambda é que, apartirdelas,\n# podemos fazer rapidamente funções para finaliidades específicas sem a necessidade \n# de definir uma função usando a palavra reservada `def`, como aprendemos nos tópicos anteriores.\n# Assim são criadaas as funções em tempo de execução do código.\n# O corpo da função lambda é uma única expressão, não um blocode instruções.",
      "execution_count": 1,
      "outputs": []
    },
    {
      "metadata": {},
      "cell_type": "markdown",
      "source": ""
    },
    {
      "metadata": {
        "trusted": true
      },
      "cell_type": "code",
      "source": "# Exemplo de definição de função com três linhas\n\ndef duplica(x):\n    resposta = x * 2\n    return(resposta)",
      "execution_count": 4,
      "outputs": []
    },
    {
      "metadata": {
        "trusted": true
      },
      "cell_type": "code",
      "source": "duplica(3)",
      "execution_count": 5,
      "outputs": [
        {
          "output_type": "execute_result",
          "execution_count": 5,
          "data": {
            "text/plain": "6"
          },
          "metadata": {}
        }
      ]
    },
    {
      "metadata": {
        "trusted": true
      },
      "cell_type": "code",
      "source": "# Vamos definir a mesma função com apenas duas linhas:",
      "execution_count": 6,
      "outputs": []
    },
    {
      "metadata": {
        "trusted": true
      },
      "cell_type": "code",
      "source": "# Definir a função com apenas duas linhas\ndef duplica(x):\n    return(x * 2)",
      "execution_count": 7,
      "outputs": []
    },
    {
      "metadata": {
        "trusted": true
      },
      "cell_type": "code",
      "source": "duplica(6)",
      "execution_count": 8,
      "outputs": [
        {
          "output_type": "execute_result",
          "execution_count": 8,
          "data": {
            "text/plain": "12"
          },
          "metadata": {}
        }
      ]
    },
    {
      "metadata": {
        "trusted": true
      },
      "cell_type": "code",
      "source": "# podemos ainda definir com uma linha\ndef duplica(x): return (x * 2)",
      "execution_count": 9,
      "outputs": []
    },
    {
      "metadata": {
        "trusted": true
      },
      "cell_type": "code",
      "source": "duplica(6)",
      "execution_count": 10,
      "outputs": [
        {
          "output_type": "execute_result",
          "execution_count": 10,
          "data": {
            "text/plain": "12"
          },
          "metadata": {}
        }
      ]
    },
    {
      "metadata": {
        "trusted": true
      },
      "cell_type": "code",
      "source": "# Utilizando a função lambda\nduplica = lambda x:x*2",
      "execution_count": 12,
      "outputs": []
    },
    {
      "metadata": {
        "trusted": true
      },
      "cell_type": "code",
      "source": "duplica(8)",
      "execution_count": 13,
      "outputs": [
        {
          "output_type": "execute_result",
          "execution_count": 13,
          "data": {
            "text/plain": "16"
          },
          "metadata": {}
        }
      ]
    },
    {
      "metadata": {
        "trusted": true
      },
      "cell_type": "code",
      "source": "# com a função lambda temos mais flexibilidade pois não percisamos definir diretamente um nome para ela. \n# Temos com isso vários benefícios, dentre eles o ganho de desempenho computacional.\n# o corpo da função lambda é uma expressão única, não um blocode instruções.\n# As funções são criadas em tempo de execução do código.",
      "execution_count": 1,
      "outputs": []
    },
    {
      "metadata": {
        "trusted": true
      },
      "cell_type": "code",
      "source": "# Função avalia se  o aluno foi aprovado\naprovado = lambda nota:nota > 7",
      "execution_count": 2,
      "outputs": []
    },
    {
      "metadata": {
        "trusted": true
      },
      "cell_type": "code",
      "source": "aprovado(8)",
      "execution_count": 3,
      "outputs": [
        {
          "output_type": "execute_result",
          "execution_count": 3,
          "data": {
            "text/plain": "True"
          },
          "metadata": {}
        }
      ]
    },
    {
      "metadata": {
        "trusted": true
      },
      "cell_type": "code",
      "source": "aprovado(4)",
      "execution_count": 4,
      "outputs": [
        {
          "output_type": "execute_result",
          "execution_count": 4,
          "data": {
            "text/plain": "False"
          },
          "metadata": {}
        }
      ]
    },
    {
      "metadata": {
        "trusted": true
      },
      "cell_type": "code",
      "source": "# Veja como criar rapidamente uma função para inverter \n# a ordem das letras dentro de qualquer palavra:",
      "execution_count": 6,
      "outputs": []
    },
    {
      "metadata": {
        "trusted": true
      },
      "cell_type": "code",
      "source": "# Função para inverter a ordem das letras\ninverte_letras = lambda palavra:palavra[::-1]",
      "execution_count": 6,
      "outputs": []
    },
    {
      "metadata": {
        "trusted": true
      },
      "cell_type": "code",
      "source": "inverte_letras ('Python')",
      "execution_count": 7,
      "outputs": [
        {
          "output_type": "execute_result",
          "execution_count": 7,
          "data": {
            "text/plain": "'nohtyP'"
          },
          "metadata": {}
        }
      ]
    },
    {
      "metadata": {
        "trusted": true
      },
      "cell_type": "code",
      "source": "# Função para multiplicar três valores\nmult_tres_valores  = lambda var1, var2, var3:var1*var2*var3",
      "execution_count": 8,
      "outputs": []
    },
    {
      "metadata": {
        "trusted": true
      },
      "cell_type": "code",
      "source": "mult_tres_valores(2,5,10)",
      "execution_count": 9,
      "outputs": [
        {
          "output_type": "execute_result",
          "execution_count": 9,
          "data": {
            "text/plain": "100"
          },
          "metadata": {}
        }
      ]
    }
  ],
  "metadata": {
    "kernelspec": {
      "name": "python36",
      "display_name": "Python 3.6",
      "language": "python"
    },
    "language_info": {
      "mimetype": "text/x-python",
      "nbconvert_exporter": "python",
      "name": "python",
      "pygments_lexer": "ipython3",
      "version": "3.6.6",
      "file_extension": ".py",
      "codemirror_mode": {
        "version": 3,
        "name": "ipython"
      }
    }
  },
  "nbformat": 4,
  "nbformat_minor": 2
}