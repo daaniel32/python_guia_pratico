{
  "cells": [
    {
      "metadata": {
        "trusted": true
      },
      "cell_type": "code",
      "source": "#  Entrada de valores\nA = int(input('Digite o valor de A: '))\nB = int(input('Digite o valor de B: '))",
      "execution_count": 1,
      "outputs": [
        {
          "output_type": "stream",
          "name": "stdout",
          "text": "Digite o valor de A: 10\nDigite o valor de B: 7\n"
        }
      ]
    },
    {
      "metadata": {
        "trusted": true
      },
      "cell_type": "code",
      "source": "if(A > B):\n    print('A é maio do que B!')\n    \nif(A < B):\n    print('B é maior do que A!')",
      "execution_count": 2,
      "outputs": [
        {
          "output_type": "stream",
          "text": "A é maio do que B!\n",
          "name": "stdout"
        }
      ]
    }
  ],
  "metadata": {
    "kernelspec": {
      "name": "python36",
      "display_name": "Python 3.6",
      "language": "python"
    },
    "language_info": {
      "mimetype": "text/x-python",
      "nbconvert_exporter": "python",
      "name": "python",
      "pygments_lexer": "ipython3",
      "version": "3.6.6",
      "file_extension": ".py",
      "codemirror_mode": {
        "version": 3,
        "name": "ipython"
      }
    }
  },
  "nbformat": 4,
  "nbformat_minor": 2
}