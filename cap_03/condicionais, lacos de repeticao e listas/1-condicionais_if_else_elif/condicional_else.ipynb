{
  "cells": [
    {
      "metadata": {
        "trusted": true
      },
      "cell_type": "code",
      "source": "# ‘if’ (se determinada condição for aceita execute a estrutura) ‘else’ (caso contrário) execute esta outra estrutura de comandos.",
      "execution_count": 1,
      "outputs": []
    },
    {
      "metadata": {
        "trusted": true
      },
      "cell_type": "code",
      "source": "if(A > B):\n    print('A é maior do que B!')\nelse:\n    print('B é maior do que A!')",
      "execution_count": 2,
      "outputs": [
        {
          "output_type": "error",
          "ename": "NameError",
          "evalue": "name 'A' is not defined",
          "traceback": [
            "\u001b[0;31m---------------------------------------------------------------------------\u001b[0m",
            "\u001b[0;31mNameError\u001b[0m                                 Traceback (most recent call last)",
            "\u001b[0;32m<ipython-input-2-4d9f739ffb3b>\u001b[0m in \u001b[0;36m<module>\u001b[0;34m\u001b[0m\n\u001b[0;32m----> 1\u001b[0;31m \u001b[0;32mif\u001b[0m\u001b[0;34m(\u001b[0m\u001b[0mA\u001b[0m \u001b[0;34m>\u001b[0m \u001b[0mB\u001b[0m\u001b[0;34m)\u001b[0m\u001b[0;34m:\u001b[0m\u001b[0;34m\u001b[0m\u001b[0m\n\u001b[0m\u001b[1;32m      2\u001b[0m     \u001b[0mprint\u001b[0m\u001b[0;34m(\u001b[0m\u001b[0;34m'A é maior do que B!'\u001b[0m\u001b[0;34m)\u001b[0m\u001b[0;34m\u001b[0m\u001b[0m\n\u001b[1;32m      3\u001b[0m \u001b[0;32melse\u001b[0m\u001b[0;34m:\u001b[0m\u001b[0;34m\u001b[0m\u001b[0m\n\u001b[1;32m      4\u001b[0m     \u001b[0mprint\u001b[0m\u001b[0;34m(\u001b[0m\u001b[0;34m'B é maior do que A!'\u001b[0m\u001b[0;34m)\u001b[0m\u001b[0;34m\u001b[0m\u001b[0m\n",
            "\u001b[0;31mNameError\u001b[0m: name 'A' is not defined"
          ]
        }
      ]
    },
    {
      "metadata": {
        "trusted": true
      },
      "cell_type": "code",
      "source": "# Aninhamentos estruturais",
      "execution_count": 1,
      "outputs": []
    },
    {
      "metadata": {
        "trusted": true
      },
      "cell_type": "code",
      "source": "idade = 80\nsexo = 'Feminino'",
      "execution_count": 3,
      "outputs": []
    },
    {
      "metadata": {
        "trusted": true
      },
      "cell_type": "code",
      "source": "if idade < 9:\n    print('É uma criança')\n    if sexo == 'Masculino':\n        print('Sexo Masculino')\n    else:\n        print('Sexo Feminino')\nelse:\n    print('Não é uma criança!')\n    if sexo == 'Masculino':\n        print('Sexo Masculino')\n    else:\n        print('Sexo Feminino')",
      "execution_count": 8,
      "outputs": [
        {
          "output_type": "stream",
          "text": "Não é uma criança!\nSexo Feminino\n",
          "name": "stdout"
        }
      ]
    },
    {
      "metadata": {
        "trusted": true
      },
      "cell_type": "code",
      "source": "idade = 7 \nsexo = 'M'",
      "execution_count": 9,
      "outputs": []
    },
    {
      "metadata": {
        "trusted": true
      },
      "cell_type": "code",
      "source": "if idade < 9:\n    print('É uma criança')\n    if sexo == 'M':\n        print('Sexo Masculino')\n    else:\n        print('Sexo Feminino')\nelse:\n    print('Não é uma criança')\n    if sexo == 'M':\n        print('Sexo Masculino')\n    else:\n        print('Sexo Feminino')",
      "execution_count": 10,
      "outputs": [
        {
          "output_type": "stream",
          "text": "É uma criança\nSexo Masculino\n",
          "name": "stdout"
        }
      ]
    },
    {
      "metadata": {
        "trusted": true
      },
      "cell_type": "code",
      "source": "nota = 5",
      "execution_count": 11,
      "outputs": []
    },
    {
      "metadata": {
        "trusted": true
      },
      "cell_type": "code",
      "source": "if nota <= 1 and nota >0:\n    print('Nota muito baixa')\nelse:\n    if nota > 1 and nota <= 4:\n        print('Nota baixa')\n    else:\n        if nota > 4 and nota <= 7 :\n            print('Nota na média')\n        else:\n            if nota > 7 and nota <= 10:\n                print('Nota alta!')\n            else:\n                print('Nota inválida!')",
      "execution_count": 12,
      "outputs": [
        {
          "output_type": "stream",
          "text": "Nota na média\n",
          "name": "stdout"
        }
      ]
    }
  ],
  "metadata": {
    "kernelspec": {
      "name": "python36",
      "display_name": "Python 3.6",
      "language": "python"
    },
    "language_info": {
      "mimetype": "text/x-python",
      "nbconvert_exporter": "python",
      "name": "python",
      "pygments_lexer": "ipython3",
      "version": "3.6.6",
      "file_extension": ".py",
      "codemirror_mode": {
        "version": 3,
        "name": "ipython"
      }
    }
  },
  "nbformat": 4,
  "nbformat_minor": 2
}