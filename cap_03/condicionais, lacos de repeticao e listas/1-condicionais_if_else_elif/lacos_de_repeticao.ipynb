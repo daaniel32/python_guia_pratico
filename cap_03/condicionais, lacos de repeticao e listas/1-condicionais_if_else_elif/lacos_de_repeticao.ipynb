{
  "cells": [
    {
      "metadata": {
        "trusted": true
      },
      "cell_type": "code",
      "source": "# loop 'for'\n# É usado da segunte maneira:\n\n# for item in conjunto-de-itens:\n#             execute comandos\n",
      "execution_count": 2,
      "outputs": []
    },
    {
      "metadata": {
        "trusted": true
      },
      "cell_type": "code",
      "source": "# Lembrando que os valores começam em 0 e vai até 9, por isso foi necessário somar (i+1)\nfor i in range(10):\n    print(i+1)",
      "execution_count": 9,
      "outputs": [
        {
          "output_type": "stream",
          "text": "1\n2\n3\n4\n5\n6\n7\n8\n9\n10\n",
          "name": "stdout"
        }
      ]
    },
    {
      "metadata": {
        "trusted": true
      },
      "cell_type": "code",
      "source": "# outra forma\nfor i in range(1,11):\n    print(i)",
      "execution_count": 10,
      "outputs": [
        {
          "output_type": "stream",
          "text": "1\n2\n3\n4\n5\n6\n7\n8\n9\n10\n",
          "name": "stdout"
        }
      ]
    },
    {
      "metadata": {
        "trusted": true
      },
      "cell_type": "code",
      "source": "# zero a 20 com incremento de 3 unidades\nfor i in range(0,20,3):\n    print(i)",
      "execution_count": 12,
      "outputs": [
        {
          "output_type": "stream",
          "text": "0\n3\n6\n9\n12\n15\n18\n",
          "name": "stdout"
        }
      ]
    },
    {
      "metadata": {
        "trusted": true
      },
      "cell_type": "code",
      "source": "# Podemos fazer com que o python passeie pelos valores de uma lista/dicionario/tupla qualquer. \n# Veja como funciona:",
      "execution_count": 15,
      "outputs": []
    },
    {
      "metadata": {
        "trusted": true
      },
      "cell_type": "code",
      "source": "lista = [10,77,88,32,100]",
      "execution_count": 16,
      "outputs": []
    },
    {
      "metadata": {
        "trusted": true
      },
      "cell_type": "code",
      "source": "for i in lista:\n    print(i)",
      "execution_count": 17,
      "outputs": [
        {
          "output_type": "stream",
          "text": "10\n77\n88\n32\n100\n",
          "name": "stdout"
        }
      ]
    },
    {
      "metadata": {
        "trusted": true
      },
      "cell_type": "code",
      "source": "valores= [11,55,22,16,10,7,9,68]",
      "execution_count": 18,
      "outputs": []
    },
    {
      "metadata": {
        "trusted": true
      },
      "cell_type": "code",
      "source": "# lista de valores com numeros pares\nfor v in valores:\n    if v%2 == 0:\n        print(v)",
      "execution_count": 23,
      "outputs": [
        {
          "output_type": "stream",
          "text": "22\n16\n10\n68\n",
          "name": "stdout"
        }
      ]
    },
    {
      "metadata": {
        "trusted": true
      },
      "cell_type": "code",
      "source": "lista = [10,77,88,32,100]\n\nfor i in lista:\n    #fazer alguma operação matemática com elementos da lista\n    resp = (i+2)/10\n    print(resp)\n    # pega cada item (i) da lista soma 2 e divide cada item por 10",
      "execution_count": 24,
      "outputs": [
        {
          "output_type": "stream",
          "text": "1.2\n7.9\n9.0\n3.4\n10.2\n",
          "name": "stdout"
        }
      ]
    },
    {
      "metadata": {
        "trusted": true
      },
      "cell_type": "code",
      "source": "# dicionario\ndic = {'var1': 10, 'var2' : 20, 'var3': 30, 'var4' : 40}",
      "execution_count": 26,
      "outputs": []
    },
    {
      "metadata": {
        "trusted": true
      },
      "cell_type": "code",
      "source": "for i in dic:\n    print(i)",
      "execution_count": 27,
      "outputs": [
        {
          "output_type": "stream",
          "text": "var1\nvar2\nvar3\nvar4\n",
          "name": "stdout"
        }
      ]
    },
    {
      "metadata": {
        "trusted": true
      },
      "cell_type": "code",
      "source": "# Note que o interando 'i' para uma estrutura de dicionário retorna apenas a chave.",
      "execution_count": 28,
      "outputs": []
    },
    {
      "metadata": {
        "trusted": true
      },
      "cell_type": "code",
      "source": "# retornando chaves(c) e valores(v)",
      "execution_count": 29,
      "outputs": []
    },
    {
      "metadata": {
        "trusted": true
      },
      "cell_type": "code",
      "source": "for c,v in dic.items():\n    print(c,v) # mostra c-chave, v-valor",
      "execution_count": 32,
      "outputs": [
        {
          "output_type": "stream",
          "text": "var1 10\nvar2 20\nvar3 30\nvar4 40\n",
          "name": "stdout"
        }
      ]
    },
    {
      "metadata": {
        "trusted": true
      },
      "cell_type": "code",
      "source": "# tuplas:\ntupla = (11,22,33,44,55)",
      "execution_count": 33,
      "outputs": []
    },
    {
      "metadata": {
        "trusted": true
      },
      "cell_type": "code",
      "source": "for i in tupla:\n    print(i)",
      "execution_count": 34,
      "outputs": [
        {
          "output_type": "stream",
          "text": "11\n22\n33\n44\n55\n",
          "name": "stdout"
        }
      ]
    },
    {
      "metadata": {
        "trusted": true
      },
      "cell_type": "code",
      "source": "# loops aninhados (loop dentro de um loop).\n# Esse tipo de estrutura de repetição é muito utilizada \n# quando estamos trabalhando com vetores e matrizes.",
      "execution_count": 35,
      "outputs": []
    },
    {
      "metadata": {
        "trusted": true
      },
      "cell_type": "code",
      "source": "lista = [[1,2,3],[4,5,6,7,7,8],[11,12,13,14,15,16,17,18]]",
      "execution_count": 36,
      "outputs": []
    },
    {
      "metadata": {
        "trusted": true
      },
      "cell_type": "code",
      "source": "for i in lista:\n    print(i)",
      "execution_count": 37,
      "outputs": [
        {
          "output_type": "stream",
          "text": "[1, 2, 3]\n[4, 5, 6, 7, 7, 8]\n[11, 12, 13, 14, 15, 16, 17, 18]\n",
          "name": "stdout"
        }
      ]
    },
    {
      "metadata": {
        "trusted": true
      },
      "cell_type": "code",
      "source": "for i in lista:\n    for j in i:\n        print(j)\n    print('----------')",
      "execution_count": 40,
      "outputs": [
        {
          "output_type": "stream",
          "text": "1\n2\n3\n----------\n4\n5\n6\n7\n7\n8\n----------\n11\n12\n13\n14\n15\n16\n17\n18\n----------\n",
          "name": "stdout"
        }
      ]
    },
    {
      "metadata": {
        "trusted": true
      },
      "cell_type": "code",
      "source": "for i in lista:\n    for j in i:\n        print(j)\n    print('-'*10)",
      "execution_count": 41,
      "outputs": [
        {
          "output_type": "stream",
          "text": "1\n2\n3\n----------\n4\n5\n6\n7\n7\n8\n----------\n11\n12\n13\n14\n15\n16\n17\n18\n----------\n",
          "name": "stdout"
        }
      ]
    },
    {
      "metadata": {
        "trusted": true
      },
      "cell_type": "code",
      "source": "# Estamos fazendo uma nova interção 'j' onde cada valor desse interando está contido\n# dentro de cada uma das listas 'i'.\n# Vale ressaltar que podemos chamar as variáveis interadoras como bem entender, \n# para uma melhor entendimento ou para nosso agrado.",
      "execution_count": 42,
      "outputs": []
    },
    {
      "metadata": {
        "trusted": true
      },
      "cell_type": "code",
      "source": "for li in lista:\n    for var in li:\n        print(var)\n    print('-'*5)",
      "execution_count": 43,
      "outputs": [
        {
          "output_type": "stream",
          "text": "1\n2\n3\n-----\n4\n5\n6\n7\n7\n8\n-----\n11\n12\n13\n14\n15\n16\n17\n18\n-----\n",
          "name": "stdout"
        }
      ]
    },
    {
      "metadata": {
        "trusted": true
      },
      "cell_type": "code",
      "source": "# Loop while #",
      "execution_count": 44,
      "outputs": []
    },
    {
      "metadata": {
        "trusted": true
      },
      "cell_type": "code",
      "source": "# Estrutura while:\n\n# while coondicao-logica:\n    #  <bloco de instrucoes>",
      "execution_count": 1,
      "outputs": []
    },
    {
      "metadata": {
        "trusted": true
      },
      "cell_type": "code",
      "source": "# Nesse tipo de estrutura temos que ter bastante cuidado para não gerarmos um loop infinito\n# Nosso código precisa estar estruturado para terminar a execução do loop uma vez que determinada \n# condição lógica for atingida.\n# Contudo, a instrução while será executada de modo repetitivo, uma única vez ou inúmeras vezes, \n# até que uma condição lógica esteja verdadeira.",
      "execution_count": 2,
      "outputs": []
    },
    {
      "metadata": {
        "trusted": true
      },
      "cell_type": "code",
      "source": "cont =1\n\nwhile cont <= 10:\n    print(cont)\n    cont = cont + 1 # temos que add essa linha para não termos loop infinito.",
      "execution_count": 6,
      "outputs": [
        {
          "output_type": "stream",
          "text": "1\n2\n3\n4\n5\n6\n7\n8\n9\n10\n",
          "name": "stdout"
        }
      ]
    },
    {
      "metadata": {
        "trusted": true
      },
      "cell_type": "code",
      "source": "# Dentro dos nossos comandos loops ‘for’ ou ‘while’ podemos mudar o seu comportamento \n# a partir das diretivas: pass, break ou continue.\n# 'pass': não executa nada na estrutura, dando continuidade ao laço de repetição. \n# 'break': termina com o laço de repetição. \n# 'continue': pula uma iteração passando para a próxima seguinte.\n# A diferença entre o pass e o continue é bastante sutil, todavia importante. \n# Fique atento no exemplo a seguir para compreender melhor essa diferença:",
      "execution_count": 7,
      "outputs": []
    },
    {
      "metadata": {
        "trusted": true
      },
      "cell_type": "code",
      "source": "for letra in 'programador':\n    if letra == 'a':\n        pass\n    print(letra)",
      "execution_count": 8,
      "outputs": [
        {
          "output_type": "stream",
          "text": "p\nr\no\ng\nr\na\nm\na\nd\no\nr\n",
          "name": "stdout"
        }
      ]
    },
    {
      "metadata": {
        "trusted": true
      },
      "cell_type": "code",
      "source": "# Note que quando o if é executado, ou seja, quando encontramos a primeira letra igual a ‘a’ \n# o pass faz com que prossigamos com o loop sem entrarmos mais na estrutura if no próximo iterando. \n# Por outro lado, se utilizarmos no lugar do pass a diretiva continue sempre iremos avaliar a \n# estrutura ‘if’ e toda vez que a letra for encontrada iremos passar para a iteração seguinte antes de imprimir a\n# letra na tela. Veja o exemplo abaixo para maiores esclarecimentos:\n",
      "execution_count": 9,
      "outputs": []
    },
    {
      "metadata": {
        "trusted": true
      },
      "cell_type": "code",
      "source": "for letra in 'programador':\n    if letra =='a':\n        continue\n    print(letra)",
      "execution_count": 12,
      "outputs": [
        {
          "output_type": "stream",
          "text": "p\nr\no\ng\nr\nm\nd\no\nr\n",
          "name": "stdout"
        }
      ]
    },
    {
      "metadata": {
        "trusted": true
      },
      "cell_type": "code",
      "source": "# Caso coloquemos um break no lugar do continue teremos uma interrupção no loop \n# quando o if for verdadeiro, ou seja, letra == ‘a’.",
      "execution_count": 13,
      "outputs": []
    },
    {
      "metadata": {
        "trusted": true
      },
      "cell_type": "code",
      "source": "for letra in 'programador':\n    if letra == 'a':\n        break\n    print(letra)",
      "execution_count": 14,
      "outputs": [
        {
          "output_type": "stream",
          "text": "p\nr\no\ng\nr\n",
          "name": "stdout"
        }
      ]
    },
    {
      "metadata": {
        "trusted": true
      },
      "cell_type": "code",
      "source": "# jogo de adivinhação de números # está dando erro corrigir depois #\n\n# As regras são bastante simples :\n# -> O jogador deverá escolher um número qualquer entre 0 e 50;\n# -> O jogador receberá dicas se seu chute está acima ou abaixo d valor oculto gerado pelo computador\n# de maneira aleatória, caso não acerte de primeira o número;\n# -> O jogador terá 10 tentativas para adivinhar qual foi o número oculto gerado pelo computador entre o intervalo (0 a 50).",
      "execution_count": 6,
      "outputs": []
    },
    {
      "metadata": {
        "trusted": true
      },
      "cell_type": "code",
      "source": "import numpy as np\nimport numpy.random",
      "execution_count": 24,
      "outputs": []
    },
    {
      "metadata": {
        "trusted": true
      },
      "cell_type": "code",
      "source": "n_tentativas = 10",
      "execution_count": 25,
      "outputs": []
    },
    {
      "metadata": {
        "trusted": true
      },
      "cell_type": "code",
      "source": "print('Adivinhe o número entre 1 a 50! Você tem',n_tentativas,' chances!')",
      "execution_count": 26,
      "outputs": [
        {
          "output_type": "stream",
          "text": "Adivinhe o número entre 1 a 50! Você tem 10  chances!\n",
          "name": "stdout"
        }
      ]
    },
    {
      "metadata": {
        "trusted": true
      },
      "cell_type": "code",
      "source": "# Gera um número aleatório inteiro entre 0 a 100:\nnum_oculto = np.random.radint(0,50)\n\nwhile n_tentativas > 0:\n    n_tentativas = n_tentativas - 1\n    chute = int(input('Escolha um número: '))\n    if chute > num_oculto:\n        print('O número oculto é menor!')\n        print('Nº restante de tentativas =%d' % n_tentativas)\n    elif chute < num_oculto:\n        print('O número oculto é maior!')\n        print('Nº restante de tentativas =%d' % n_tentativas)\n    else:\n        print('Parabéns! Você acertou o nº que é %d' % num_oculto)\n        break\n\nif n_tentativas == 0:\n    print('-'* 38)\n    print('Infelizmente suas tentativas acabaram')\n    print('-'*38)\n    print('O número oculto era: %d' % num_oculto)",
      "execution_count": 28,
      "outputs": [
        {
          "output_type": "error",
          "ename": "AttributeError",
          "evalue": "module 'numpy.random' has no attribute 'radint'",
          "traceback": [
            "\u001b[0;31m---------------------------------------------------------------------------\u001b[0m",
            "\u001b[0;31mAttributeError\u001b[0m                            Traceback (most recent call last)",
            "\u001b[0;32m<ipython-input-28-1130d6760f03>\u001b[0m in \u001b[0;36m<module>\u001b[0;34m\u001b[0m\n\u001b[1;32m      1\u001b[0m \u001b[0;31m# Gera um número aleatório inteiro entre 0 a 100:\u001b[0m\u001b[0;34m\u001b[0m\u001b[0;34m\u001b[0m\u001b[0m\n\u001b[0;32m----> 2\u001b[0;31m \u001b[0mnum_oculto\u001b[0m \u001b[0;34m=\u001b[0m \u001b[0mnp\u001b[0m\u001b[0;34m.\u001b[0m\u001b[0mrandom\u001b[0m\u001b[0;34m.\u001b[0m\u001b[0mradint\u001b[0m\u001b[0;34m(\u001b[0m\u001b[0;36m0\u001b[0m\u001b[0;34m,\u001b[0m\u001b[0;36m50\u001b[0m\u001b[0;34m)\u001b[0m\u001b[0;34m\u001b[0m\u001b[0m\n\u001b[0m\u001b[1;32m      3\u001b[0m \u001b[0;34m\u001b[0m\u001b[0m\n\u001b[1;32m      4\u001b[0m \u001b[0;32mwhile\u001b[0m \u001b[0mn_tentativas\u001b[0m \u001b[0;34m>\u001b[0m \u001b[0;36m0\u001b[0m\u001b[0;34m:\u001b[0m\u001b[0;34m\u001b[0m\u001b[0m\n\u001b[1;32m      5\u001b[0m     \u001b[0mn_tentativas\u001b[0m \u001b[0;34m=\u001b[0m \u001b[0mn_tentativas\u001b[0m \u001b[0;34m-\u001b[0m \u001b[0;36m1\u001b[0m\u001b[0;34m\u001b[0m\u001b[0m\n",
            "\u001b[0;31mAttributeError\u001b[0m: module 'numpy.random' has no attribute 'radint'"
          ]
        }
      ]
    },
    {
      "metadata": {
        "trusted": true
      },
      "cell_type": "code",
      "source": "",
      "execution_count": null,
      "outputs": []
    }
  ],
  "metadata": {
    "kernelspec": {
      "name": "python36",
      "display_name": "Python 3.6",
      "language": "python"
    },
    "language_info": {
      "mimetype": "text/x-python",
      "nbconvert_exporter": "python",
      "name": "python",
      "pygments_lexer": "ipython3",
      "version": "3.6.6",
      "file_extension": ".py",
      "codemirror_mode": {
        "version": 3,
        "name": "ipython"
      }
    }
  },
  "nbformat": 4,
  "nbformat_minor": 2
}