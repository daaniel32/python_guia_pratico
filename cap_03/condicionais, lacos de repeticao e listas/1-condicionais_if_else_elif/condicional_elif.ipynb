{
  "cells": [
    {
      "metadata": {
        "trusted": true
      },
      "cell_type": "code",
      "source": "nota = 8",
      "execution_count": 1,
      "outputs": []
    },
    {
      "metadata": {
        "trusted": true
      },
      "cell_type": "code",
      "source": "if nota <= 1 and nota >0:\n    print('Nota muito baixa')\nelif nota > 1 and nota <= 4:\n    print('Nota baixa')\nelif nota > 4 and nota <= 7:\n    print('Nota na média.')\nelif nota > 7 and nota <=10:\n    print('Nota alta')\nelse:\n    print('Nota inválida')",
      "execution_count": 3,
      "outputs": [
        {
          "output_type": "stream",
          "text": "Nota alta\n",
          "name": "stdout"
        }
      ]
    },
    {
      "metadata": {
        "trusted": true
      },
      "cell_type": "code",
      "source": "",
      "execution_count": null,
      "outputs": []
    }
  ],
  "metadata": {
    "kernelspec": {
      "name": "python36",
      "display_name": "Python 3.6",
      "language": "python"
    },
    "language_info": {
      "mimetype": "text/x-python",
      "nbconvert_exporter": "python",
      "name": "python",
      "pygments_lexer": "ipython3",
      "version": "3.6.6",
      "file_extension": ".py",
      "codemirror_mode": {
        "version": 3,
        "name": "ipython"
      }
    }
  },
  "nbformat": 4,
  "nbformat_minor": 2
}